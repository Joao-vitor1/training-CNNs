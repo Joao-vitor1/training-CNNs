{
  "nbformat": 4,
  "nbformat_minor": 0,
  "metadata": {
    "colab": {
      "provenance": [],
      "toc_visible": true,
      "gpuType": "T4",
      "authorship_tag": "ABX9TyP02mgYeofdlKHS0LNxU2ge",
      "include_colab_link": true
    },
    "kernelspec": {
      "name": "python3",
      "display_name": "Python 3"
    },
    "language_info": {
      "name": "python"
    },
    "accelerator": "GPU"
  },
  "cells": [
    {
      "cell_type": "markdown",
      "metadata": {
        "id": "view-in-github",
        "colab_type": "text"
      },
      "source": [
        "<a href=\"https://colab.research.google.com/github/Joao-vitor1/training-CNNs/blob/main/prova_fashion_mnist.ipynb\" target=\"_parent\"><img src=\"https://colab.research.google.com/assets/colab-badge.svg\" alt=\"Open In Colab\"/></a>"
      ]
    },
    {
      "cell_type": "code",
      "source": [
        "pip install torchmetrics"
      ],
      "metadata": {
        "colab": {
          "base_uri": "https://localhost:8080/"
        },
        "id": "1xedJo8svI6s",
        "outputId": "b377103b-4890-46d5-832d-47d415b62de9"
      },
      "execution_count": null,
      "outputs": [
        {
          "output_type": "stream",
          "name": "stdout",
          "text": [
            "Collecting torchmetrics\n",
            "  Downloading torchmetrics-1.6.1-py3-none-any.whl.metadata (21 kB)\n",
            "Requirement already satisfied: numpy>1.20.0 in /usr/local/lib/python3.11/dist-packages (from torchmetrics) (1.26.4)\n",
            "Requirement already satisfied: packaging>17.1 in /usr/local/lib/python3.11/dist-packages (from torchmetrics) (24.2)\n",
            "Requirement already satisfied: torch>=2.0.0 in /usr/local/lib/python3.11/dist-packages (from torchmetrics) (2.5.1+cu121)\n",
            "Collecting lightning-utilities>=0.8.0 (from torchmetrics)\n",
            "  Downloading lightning_utilities-0.11.9-py3-none-any.whl.metadata (5.2 kB)\n",
            "Requirement already satisfied: setuptools in /usr/local/lib/python3.11/dist-packages (from lightning-utilities>=0.8.0->torchmetrics) (75.1.0)\n",
            "Requirement already satisfied: typing-extensions in /usr/local/lib/python3.11/dist-packages (from lightning-utilities>=0.8.0->torchmetrics) (4.12.2)\n",
            "Requirement already satisfied: filelock in /usr/local/lib/python3.11/dist-packages (from torch>=2.0.0->torchmetrics) (3.16.1)\n",
            "Requirement already satisfied: networkx in /usr/local/lib/python3.11/dist-packages (from torch>=2.0.0->torchmetrics) (3.4.2)\n",
            "Requirement already satisfied: jinja2 in /usr/local/lib/python3.11/dist-packages (from torch>=2.0.0->torchmetrics) (3.1.5)\n",
            "Requirement already satisfied: fsspec in /usr/local/lib/python3.11/dist-packages (from torch>=2.0.0->torchmetrics) (2024.10.0)\n",
            "Requirement already satisfied: nvidia-cuda-nvrtc-cu12==12.1.105 in /usr/local/lib/python3.11/dist-packages (from torch>=2.0.0->torchmetrics) (12.1.105)\n",
            "Requirement already satisfied: nvidia-cuda-runtime-cu12==12.1.105 in /usr/local/lib/python3.11/dist-packages (from torch>=2.0.0->torchmetrics) (12.1.105)\n",
            "Requirement already satisfied: nvidia-cuda-cupti-cu12==12.1.105 in /usr/local/lib/python3.11/dist-packages (from torch>=2.0.0->torchmetrics) (12.1.105)\n",
            "Requirement already satisfied: nvidia-cudnn-cu12==9.1.0.70 in /usr/local/lib/python3.11/dist-packages (from torch>=2.0.0->torchmetrics) (9.1.0.70)\n",
            "Requirement already satisfied: nvidia-cublas-cu12==12.1.3.1 in /usr/local/lib/python3.11/dist-packages (from torch>=2.0.0->torchmetrics) (12.1.3.1)\n",
            "Requirement already satisfied: nvidia-cufft-cu12==11.0.2.54 in /usr/local/lib/python3.11/dist-packages (from torch>=2.0.0->torchmetrics) (11.0.2.54)\n",
            "Requirement already satisfied: nvidia-curand-cu12==10.3.2.106 in /usr/local/lib/python3.11/dist-packages (from torch>=2.0.0->torchmetrics) (10.3.2.106)\n",
            "Requirement already satisfied: nvidia-cusolver-cu12==11.4.5.107 in /usr/local/lib/python3.11/dist-packages (from torch>=2.0.0->torchmetrics) (11.4.5.107)\n",
            "Requirement already satisfied: nvidia-cusparse-cu12==12.1.0.106 in /usr/local/lib/python3.11/dist-packages (from torch>=2.0.0->torchmetrics) (12.1.0.106)\n",
            "Requirement already satisfied: nvidia-nccl-cu12==2.21.5 in /usr/local/lib/python3.11/dist-packages (from torch>=2.0.0->torchmetrics) (2.21.5)\n",
            "Requirement already satisfied: nvidia-nvtx-cu12==12.1.105 in /usr/local/lib/python3.11/dist-packages (from torch>=2.0.0->torchmetrics) (12.1.105)\n",
            "Requirement already satisfied: triton==3.1.0 in /usr/local/lib/python3.11/dist-packages (from torch>=2.0.0->torchmetrics) (3.1.0)\n",
            "Requirement already satisfied: sympy==1.13.1 in /usr/local/lib/python3.11/dist-packages (from torch>=2.0.0->torchmetrics) (1.13.1)\n",
            "Requirement already satisfied: nvidia-nvjitlink-cu12 in /usr/local/lib/python3.11/dist-packages (from nvidia-cusolver-cu12==11.4.5.107->torch>=2.0.0->torchmetrics) (12.6.85)\n",
            "Requirement already satisfied: mpmath<1.4,>=1.1.0 in /usr/local/lib/python3.11/dist-packages (from sympy==1.13.1->torch>=2.0.0->torchmetrics) (1.3.0)\n",
            "Requirement already satisfied: MarkupSafe>=2.0 in /usr/local/lib/python3.11/dist-packages (from jinja2->torch>=2.0.0->torchmetrics) (3.0.2)\n",
            "Downloading torchmetrics-1.6.1-py3-none-any.whl (927 kB)\n",
            "\u001b[2K   \u001b[90m━━━━━━━━━━━━━━━━━━━━━━━━━━━━━━━━━━━━━━━━\u001b[0m \u001b[32m927.3/927.3 kB\u001b[0m \u001b[31m15.4 MB/s\u001b[0m eta \u001b[36m0:00:00\u001b[0m\n",
            "\u001b[?25hDownloading lightning_utilities-0.11.9-py3-none-any.whl (28 kB)\n",
            "Installing collected packages: lightning-utilities, torchmetrics\n",
            "Successfully installed lightning-utilities-0.11.9 torchmetrics-1.6.1\n"
          ]
        }
      ]
    },
    {
      "cell_type": "code",
      "execution_count": null,
      "metadata": {
        "id": "MyTLTRFMqeNp"
      },
      "outputs": [],
      "source": [
        "import pandas as pd\n",
        "import numpy as np\n",
        "import matplotlib.pyplot as plt\n",
        "import seaborn as sns\n",
        "\n",
        "import torch\n",
        "import torchvision\n",
        "import torchvision.transforms as T\n",
        "from torch.utils.data.dataloader import DataLoader\n",
        "from torchvision.utils import make_grid\n",
        "from torch.utils.data import random_split\n",
        "from torch.utils.data import Dataset\n",
        "from torchvision import transforms\n",
        "import torchmetrics\n",
        "from torch import nn\n",
        "from torch.optim.lr_scheduler import StepLR\n",
        "\n",
        "import tempfile\n",
        "import os\n",
        "# import torch.nn as nn\n",
        "\n"
      ]
    },
    {
      "cell_type": "markdown",
      "source": [
        "# Dados"
      ],
      "metadata": {
        "id": "dH2sPqAvzjYT"
      }
    },
    {
      "cell_type": "code",
      "source": [
        "transform = transforms.Compose([\n",
        "    transforms.ToTensor(),  # Converte PIL Image para tensor\n",
        "    transforms.Normalize((0.5,), (0.5,))  # Normaliza com média 0.5 e desvio padrão 0.5\n",
        "])"
      ],
      "metadata": {
        "id": "ZecApw4RvhdU"
      },
      "execution_count": null,
      "outputs": []
    },
    {
      "cell_type": "code",
      "source": [
        "# Baixar e carregar os dados de treino e teste\n",
        "train_dataset = torchvision.datasets.FashionMNIST(\n",
        "    root='./data',  # Diretório onde os dados serão armazenados\n",
        "    train=True,     # Indica que é o conjunto de treinamento\n",
        "    download=True,  # Faz o download se não estiver disponível\n",
        "    transform=transform\n",
        ")\n",
        "\n",
        "test_dataset = torchvision.datasets.FashionMNIST(\n",
        "    root='./data',\n",
        "    train=False,\n",
        "    download=True,\n",
        "    transform=transform)\n",
        "\n"
      ],
      "metadata": {
        "id": "7PyISknovnf7"
      },
      "execution_count": null,
      "outputs": []
    },
    {
      "cell_type": "code",
      "source": [
        "#looking for the number of images\n",
        "print(len(train_dataset))\n",
        "#get training and validation data\n",
        "train_ds, val_ds = random_split(train_dataset, [50000, 10000])"
      ],
      "metadata": {
        "colab": {
          "base_uri": "https://localhost:8080/"
        },
        "id": "hiEKuY0vboQ7",
        "outputId": "d5f191d5-b789-4947-d5ff-ceed0a6f1f2a"
      },
      "execution_count": null,
      "outputs": [
        {
          "output_type": "stream",
          "name": "stdout",
          "text": [
            "60000\n"
          ]
        }
      ]
    },
    {
      "cell_type": "code",
      "source": [
        "batch_size = 128\n",
        "\n",
        "train_dl = DataLoader(train_ds, batch_size, shuffle = True, pin_memory = True) # oque eh pin_memory?\n",
        "val_dl =  DataLoader(val_ds, batch_size, shuffle = False, pin_memory = True)\n",
        "test_dl = DataLoader(test_dataset, batch_size, shuffle = False, pin_memory = True)"
      ],
      "metadata": {
        "id": "GgvK6_ZPde_t"
      },
      "execution_count": null,
      "outputs": []
    },
    {
      "cell_type": "code",
      "source": [
        "# Função para mostrar uma imagem\n",
        "def show_image(img, label):\n",
        "    img = img / 2 + 0.5  # Desnormaliza\n",
        "    np_img = img.numpy()\n",
        "    plt.imshow(np.transpose(np_img, (1, 2, 0)), cmap='gray')\n",
        "    plt.title(f\"Label: {label}\")\n",
        "    plt.show()\n",
        "\n",
        "# Obter uma batch\n",
        "data_iter = iter(train_dl)\n",
        "images, labels = next(data_iter)\n",
        "print(images[0].shape)\n",
        "# Mostrar a primeira imagem\n",
        "show_image(images[0], labels[0].item())"
      ],
      "metadata": {
        "colab": {
          "base_uri": "https://localhost:8080/",
          "height": 469
        },
        "id": "4D_f-rm6wMLk",
        "outputId": "56931ab1-af54-42fe-e563-1ac8ac0eed43"
      },
      "execution_count": null,
      "outputs": [
        {
          "output_type": "stream",
          "name": "stdout",
          "text": [
            "torch.Size([1, 28, 28])\n"
          ]
        },
        {
          "output_type": "display_data",
          "data": {
            "text/plain": [
              "<Figure size 640x480 with 1 Axes>"
            ],
            "image/png": "[encoded data removed]"
          },
          "metadata": {}
        }
      ]
    },
    {
      "cell_type": "markdown",
      "source": [
        "# modelos"
      ],
      "metadata": {
        "id": "GDm68ArZzflD"
      }
    },
    {
      "cell_type": "code",
      "source": [
        "#VGG with 4 convolutions\n",
        "#ativation function: ReLU\n",
        "#regualization: Dropout\n",
        "class model1(nn.Module):\n",
        "  def __init__(self):\n",
        "    super().__init__()\n",
        "\n",
        "    self.conv_layer = nn.Sequential(\n",
        "        nn.Conv2d(1, 16, kernel_size = (3,3)), # 16 x 26 x 26\n",
        "        nn.BatchNorm2d(16),\n",
        "        nn.ReLU(),\n",
        "\n",
        "        nn.Conv2d(16, 32, kernel_size = (3,3)), # 32 x 24 x 24\n",
        "        nn.BatchNorm2d(32),\n",
        "        nn.ReLU(),\n",
        "        nn.MaxPool2d(2,2), # 16 x 12 X 12\n",
        "\n",
        "\n",
        "        nn.Conv2d(32, 64, kernel_size = (3,3)), # 64 x 10 X 10\n",
        "        nn.BatchNorm2d(64),\n",
        "        nn.ReLU(),\n",
        "\n",
        "        nn.Conv2d(64,128, kernel_size =(3,3)), # 128 x 8 X 8\n",
        "        nn.BatchNorm2d(128),\n",
        "        nn.ReLU(),\n",
        "        nn.MaxPool2d(2,2), # 128 x 4 X 4\n",
        "    )\n",
        "    self.linear_layer = nn.Sequential(\n",
        "        nn.Flatten(),\n",
        "        nn.Linear(128*4*4, 1024),\n",
        "        nn.BatchNorm1d(1024),\n",
        "        nn.ReLU(),\n",
        "        nn.Dropout(0.3),\n",
        "\n",
        "        nn.Linear(1024, 512),\n",
        "        nn.BatchNorm1d(512),\n",
        "        nn.ReLU(),\n",
        "        nn.Linear(512, 10)\n",
        "    )\n",
        "  def forward(self, x):\n",
        "    x = self.conv_layer(x)\n",
        "    return self.linear_layer(x)\n"
      ],
      "metadata": {
        "id": "QGXhDWpzP1C1"
      },
      "execution_count": null,
      "outputs": []
    },
    {
      "cell_type": "code",
      "source": [
        "#VGG with 4 convolutions\n",
        "#ativation function: ReLU\n",
        "#regualization: Dropout\n",
        "class model2(nn.Module):\n",
        "  def __init__(self):\n",
        "    super().__init__()\n",
        "\n",
        "    self.conv_layer = nn.Sequential(\n",
        "        nn.Conv2d(1, 16, kernel_size = (3,3), padding = 1), # 16 x 28 x 28\n",
        "        nn.BatchNorm2d(16),\n",
        "        nn.ReLU(),\n",
        "        #\n",
        "        nn.Conv2d(16, 32, kernel_size = (3,3), padding = 1), # 32 x 28 x 28\n",
        "        nn.BatchNorm2d(32),\n",
        "        nn.ReLU(),\n",
        "        nn.MaxPool2d(2,2), # 16 x 14 X 14\n",
        "\n",
        "\n",
        "        nn.Conv2d(32, 64, kernel_size = (3,3), padding = 1), # 64 x 14 X 14\n",
        "        nn.BatchNorm2d(64),\n",
        "        nn.ReLU(),\n",
        "        #\n",
        "        nn.Conv2d(64,128, kernel_size =(3,3), padding = 1), # 128 x 14 X 14\n",
        "        nn.BatchNorm2d(128),\n",
        "        nn.ReLU(),\n",
        "        nn.MaxPool2d(2,2), # 128 x 7 X 7\n",
        "    )\n",
        "    self.linear_layer = nn.Sequential(\n",
        "        nn.Flatten(),\n",
        "\n",
        "        nn.Linear(128*7*7, 1024),\n",
        "        nn.BatchNorm1d(1024),\n",
        "        nn.ReLU(),\n",
        "        nn.Dropout(0.3),\n",
        "\n",
        "        nn.Linear(1024, 512),\n",
        "        nn.BatchNorm1d(512),\n",
        "        nn.ReLU(),\n",
        "        nn.Linear(512, 10)\n",
        "    )\n",
        "  def forward(self, x):\n",
        "    x = self.conv_layer(x)\n",
        "    return self.linear_layer(x)\n"
      ],
      "metadata": {
        "id": "bAWi9P-EQETD"
      },
      "execution_count": null,
      "outputs": []
    },
    {
      "cell_type": "code",
      "source": [
        "#AlexNet with 2 convolutions\n",
        "#ativation function: LeakyReLU\n",
        "#regualization: Dropout\n",
        "class model3(nn.Module):\n",
        "    def __init__(self) -> None: # o que significa\n",
        "        super().__init__()\n",
        "        self.conv_layer = nn.Sequential(\n",
        "            nn.Conv2d(1,32,3,1), #32 x 26 x 26\n",
        "            nn.LeakyReLU(),\n",
        "            nn.MaxPool2d(2),\n",
        "            nn.BatchNorm2d(32), # 32 x 13 x 13\n",
        "\n",
        "            nn.Conv2d(32,64,3,1), # 64 x 11 x 11\n",
        "            nn.LeakyReLU(),\n",
        "            nn.MaxPool2d(2),\n",
        "            nn.BatchNorm2d(64), # 64 x 5 x 5\n",
        "        )\n",
        "        self.linear_layer = nn.Sequential(\n",
        "            nn.Dropout(0.3),\n",
        "            nn.Linear(64*5*5,128),\n",
        "            nn.LeakyReLU(),\n",
        "            nn.BatchNorm1d(128),\n",
        "\n",
        "            nn.Dropout(0.3),\n",
        "\n",
        "            nn.Linear(128,64),\n",
        "            nn.LeakyReLU(),\n",
        "            nn.BatchNorm1d(64),\n",
        "\n",
        "            nn.Dropout(0.3),\n",
        "\n",
        "            nn.Linear(64,10),\n",
        "            nn.LogSoftmax(dim=1),\n",
        "        )\n",
        "\n",
        "    def forward(self,x):\n",
        "        out = self.conv_layer(x)\n",
        "        # print(out.shape)\n",
        "        out = out.view(-1,64*5*5)\n",
        "        out = self.linear_layer(out)\n",
        "\n",
        "        return out"
      ],
      "metadata": {
        "id": "7Qun2ak_bRra"
      },
      "execution_count": null,
      "outputs": []
    },
    {
      "cell_type": "code",
      "source": [
        "#VGG with 5 convolutions\n",
        "#ativation function: ReLU\n",
        "#regualization: Dropout\n",
        "class model4(nn.Module):\n",
        "  def __init__(self):\n",
        "    super().__init__()\n",
        "    self.conv_layer = nn.Sequential(\n",
        "        nn.Conv2d(1,64, kernel_size = (3,3), padding = 1), # 64 x 28 x 28\n",
        "        nn.ReLU(),\n",
        "        nn.Conv2d(64,64, kernel_size = (3,3), padding = 1), # 64 x 28 x 28\n",
        "        nn.ReLU(),\n",
        "        nn.MaxPool2d(2,2), # 64 x 14 x 14\n",
        "        nn.BatchNorm2d(64),\n",
        "\n",
        "        nn.Conv2d(64,128, kernel_size = (3,3), padding = 1), # 128 x 14 x 14\n",
        "        nn.ReLU(),\n",
        "        nn.Conv2d(128,128, kernel_size = (3,3), padding = 1), # 128 x 14 x 14\n",
        "        nn.ReLU(),\n",
        "        nn.MaxPool2d(2,2), # 128 x 7 x 7\n",
        "        nn.BatchNorm2d(128),\n",
        "\n",
        "        nn.Conv2d(128,256, kernel_size = (3,3)), # 256 x 5 x 5\n",
        "        nn.ReLU(),\n",
        "        nn.MaxPool2d(2,2), # 256 x 2 x 2\n",
        "        nn.BatchNorm2d(256)\n",
        "    )\n",
        "    self.linear_layer = nn.Sequential(\n",
        "        nn.Flatten(),\n",
        "\n",
        "        nn.Linear(256*2*2,512),\n",
        "        nn.ReLU(),\n",
        "        nn.Dropout(0.5),\n",
        "\n",
        "        nn.Linear(512, 10)\n",
        "    )\n",
        "\n",
        "  def forward(self, x):\n",
        "    x = self.conv_layer(x)\n",
        "    return self.linear_layer(x)"
      ],
      "metadata": {
        "id": "aovam14EQOEb"
      },
      "execution_count": null,
      "outputs": []
    },
    {
      "cell_type": "code",
      "source": [
        "#cheking if we are running the code in GPU or CPU\n",
        "device = 'cuda' if torch.cuda.is_available() else 'cpu'\n",
        "print('rodando na', device)"
      ],
      "metadata": {
        "colab": {
          "base_uri": "https://localhost:8080/"
        },
        "id": "QvZHti4sYzSk",
        "outputId": "d63b96fe-4de0-400d-f028-f202bc9f3bfb"
      },
      "execution_count": null,
      "outputs": [
        {
          "output_type": "stream",
          "name": "stdout",
          "text": [
            "rodando na cuda\n"
          ]
        }
      ]
    },
    {
      "cell_type": "markdown",
      "source": [
        "# função de treinamento"
      ],
      "metadata": {
        "id": "zKC5W6JNzcmL"
      }
    },
    {
      "cell_type": "code",
      "source": [
        "def fit(epochs, model, train_dl, val_dl, loss_func, optimizer, decrease):\n",
        "  #learning rate decreasing in 0.1 at every 6 epochs\n",
        "  if decrease is True:\n",
        "    scheduler = StepLR(optimizer, step_size= 6, gamma=0.1)\n",
        "\n",
        "  history = []\n",
        "  epoch_info = {'loss_train': 0.0, 'loss_val': 0.0, 'acc': 0.0}\n",
        "\n",
        "  with tempfile.TemporaryDirectory() as tempdir:\n",
        "    #creat directory to save parameters\n",
        "    best_model_params_path = os.path.join(tempdir, 'best_model_params.pt')\n",
        "    torch.save(model.state_dict(), best_model_params_path)\n",
        "    best_acc = 0.0\n",
        "\n",
        "    for epoch in range(epochs):\n",
        "      model.train()        #setting to train mode\n",
        "      loss_epoch = 0.0\n",
        "      for imgs, labels in train_dl:\n",
        "        imgs, labels = imgs.to(device), labels.to(device) #setting imgs and labels in GPU\n",
        "\n",
        "        out = model(imgs)                 #Forward\n",
        "        loss = loss_func(out, labels)     #loss function computation\n",
        "\n",
        "        loss.backward()                   #Backward\n",
        "        loss_epoch += loss.item()\n",
        "        optimizer.step()                  #updating parameters\n",
        "        optimizer.zero_grad()             #resetting gradients\n",
        "      print('----------------------------------------')\n",
        "\n",
        "      if decrease is True:\n",
        "        scheduler.step()\n",
        "\n",
        "      epoch_info['loss_val'], epoch_info['acc'] = evaluation(model, val_dl, loss_func)\n",
        "      epoch_info['loss_train'] = loss_epoch / len(train_dl)\n",
        "\n",
        "      print('epoch:', epoch,\n",
        "            'loss_train:', epoch_info['loss_train'],\n",
        "            'loss_val:', epoch_info['loss_val'],\n",
        "            'acc:', epoch_info['acc'])\n",
        "\n",
        "      if best_acc < epoch_info['acc']: #creating checkpoint when your model gets better acc\n",
        "        print('better')\n",
        "        best_acc = epoch_info['acc']\n",
        "        torch.save(model.state_dict(), best_model_params_path)\n",
        "\n",
        "\n",
        "      history.append([epoch_info['loss_train'], epoch_info['loss_val'], epoch_info['acc']])\n",
        "    #getting model version with best acc score.\n",
        "    model.load_state_dict(torch.load(best_model_params_path))\n",
        "  return history\n",
        "\n",
        "\n",
        "def evaluation(model, val_dl, loss_func):\n",
        "  model.eval()  #setting to validation mode\n",
        "\n",
        "  with torch.no_grad(): #No calculation of gradient in forward step\n",
        "    loss_val = 0.0\n",
        "    acc = 0.0\n",
        "\n",
        "    for imgs, labels in val_dl:\n",
        "      imgs, labels = imgs.to(device), labels.to(device)\n",
        "\n",
        "      #Forward\n",
        "      out = model(imgs)\n",
        "      loss= loss_func(out, labels)\n",
        "      loss_val += loss.item()\n",
        "\n",
        "    #calculating accuracy\n",
        "      _, preds = torch.max(out, dim = 1)\n",
        "      acc += torch.sum(preds == labels).item() / len(preds)\n",
        "\n",
        "    loss_val = loss_val / len(val_dl)\n",
        "    acc = acc / len(val_dl)\n",
        "\n",
        "  return loss_val, acc"
      ],
      "metadata": {
        "id": "WucdwkfGZFDj"
      },
      "execution_count": null,
      "outputs": []
    },
    {
      "cell_type": "markdown",
      "source": [
        "# funções auxiliares"
      ],
      "metadata": {
        "id": "0agflCaVzZbK"
      }
    },
    {
      "cell_type": "code",
      "source": [
        "def acurracy(model, val_dl, classes):\n",
        "  correct_preds = {name_class: 0 for name_class in classes}\n",
        "  all_preds = {name_class: 0 for name_class in classes}\n",
        "\n",
        "  model.eval()\n",
        "\n",
        "  with torch.no_grad():\n",
        "    total_correct = 0.0\n",
        "    total = 0.0\n",
        "    for imgs, labels in val_dl:\n",
        "      imgs, labels = imgs.to(device), labels.to(device)\n",
        "\n",
        "      out = model(imgs)\n",
        "\n",
        "      _, preds = torch.max(out, dim = 1)\n",
        "\n",
        "      for pred, label in zip(preds,labels):\n",
        "          if pred == label:\n",
        "            correct_preds[label.item()] += 1\n",
        "            total_correct += 1\n",
        "          all_preds[label.item()] += 1\n",
        "          total += 1\n",
        "\n",
        "    for name in classes:\n",
        "      class_acc = correct_preds[name] / all_preds[name]\n",
        "      print(\"acurracia da classe\", str(name),\":\", class_acc)\n",
        "\n",
        "    global_acc = total_correct/total\n",
        "    print('acurracia global:', global_acc)\n",
        "  return global_acc"
      ],
      "metadata": {
        "id": "fqncZxDTaphh"
      },
      "execution_count": null,
      "outputs": []
    },
    {
      "cell_type": "code",
      "source": [
        "def make_confusion_matrix(model, val_dl):\n",
        "  model.eval()\n",
        "  model.to('cpu')\n",
        "  Preds = []\n",
        "  Labels = []\n",
        "  with torch.no_grad():\n",
        "    for imgs, labels in val_dl:\n",
        "      out = model(imgs)\n",
        "\n",
        "      _, preds = torch.max(out, dim = 1)\n",
        "      Preds = np.concatenate((Preds, preds))\n",
        "      Labels = np.concatenate((Labels, labels))\n",
        "\n",
        "  confmat = torchmetrics.ConfusionMatrix(task=\"multiclass\", num_classes=10)\n",
        "  cm = confmat(torch.tensor(Preds),torch.tensor(Labels))\n",
        "\n",
        "  plt.title(\"Confusion Matrix\")\n",
        "  sns.heatmap(cm,annot=True,fmt='d')\n",
        "  plt.xlabel(\"Predictions\")\n",
        "  plt.ylabel(\"Ground Truth\")\n",
        "  plt.show()\n",
        "  model.to(device)"
      ],
      "metadata": {
        "id": "9APG2EFaazkB"
      },
      "execution_count": null,
      "outputs": []
    },
    {
      "cell_type": "code",
      "source": [
        "def plot_loss(history):\n",
        "  history = np.array(history)\n",
        "  loss_train = history[:,0]\n",
        "  loss_val = history[:,1]\n",
        "\n",
        "  plt.title('loss model X epoch')\n",
        "  plt.plot(loss_train, label =\"loss train\")\n",
        "  plt.plot(loss_val, label = 'loss validation')\n",
        "  plt.legend(fontsize=\"12\")\n",
        "  plt.xlabel(\"epochs\")\n",
        "  plt.ylabel(\"loss\")\n",
        "\n",
        "\n",
        "def plot_acc(history):\n",
        "  history = np.array(history)\n",
        "  acc = history[:, 2]\n",
        "\n",
        "  plt.title('accuracy X epoch')\n",
        "  plt.plot(acc, label =\"accuracy\")\n",
        "  plt.legend(fontsize=\"12\")\n",
        "  plt.xlabel(\"epochs\")\n",
        "  plt.ylabel(\"accuracy\")\n",
        "  plt.show()\n",
        "\n"
      ],
      "metadata": {
        "id": "N8GXPja0a0_h"
      },
      "execution_count": null,
      "outputs": []
    },
    {
      "cell_type": "code",
      "source": [
        "def plot_all_acc(historical):\n",
        "  for i, history in enumerate(historical):\n",
        "    history = np.array(history)\n",
        "    acc = history[:, 2]\n",
        "\n",
        "    plt.plot(acc, label = \"accuracy\"+str(i))\n",
        "  plt.title('accuracy X epoch')\n",
        "  plt.legend(fontsize=\"12\")\n",
        "  plt.xlabel(\"epochs\")\n",
        "  plt.ylabel(\"accuracy\")\n",
        "  plt.show()\n",
        "\n",
        "\n",
        "def plot_all_loss(historical):\n",
        "  for i, history in enumerate(historical):\n",
        "    history = np.array(history)\n",
        "    loss_train = history[:,0]\n",
        "\n",
        "    plt.plot(loss_train, label = 'loss train'+str(i))\n",
        "  plt.title('loss model X epoch')\n",
        "  plt.legend(fontsize=\"12\")\n",
        "  plt.xlabel(\"epochs\")\n",
        "  plt.ylabel(\"loss\")\n",
        "  plt.show()\n",
        "\n",
        "  for i, history in enumerate(historical):\n",
        "      history = np.array(history)\n",
        "      loss_val = history[:,1]\n",
        "\n",
        "      plt.plot(loss_val, label =\"loss val\"+str(i))\n",
        "  plt.title('loss model X epoch')\n",
        "  plt.legend(fontsize=\"12\")\n",
        "  plt.xlabel(\"epochs\")\n",
        "  plt.ylabel(\"loss\")\n",
        "  plt.show()\n"
      ],
      "metadata": {
        "id": "dGo2eQCUvq_n"
      },
      "execution_count": null,
      "outputs": []
    },
    {
      "cell_type": "code",
      "source": [
        "lossfunc = nn.CrossEntropyLoss()\n",
        "\n",
        "model_1 = model1().to(device)\n",
        "model_2 = model2().to(device)\n",
        "model_3 = model3().to(device)\n",
        "model_4 = model4().to(device)\n",
        "\n",
        "print(evaluation(model_1, val_dl, lossfunc))\n",
        "print(evaluation(model_2, val_dl, lossfunc))\n",
        "print(evaluation(model_3, val_dl, lossfunc))\n",
        "print(evaluation(model_4, val_dl, lossfunc))"
      ],
      "metadata": {
        "colab": {
          "base_uri": "https://localhost:8080/"
        },
        "id": "fs5p4mQKbIpJ",
        "outputId": "6c6b92e5-f282-4090-ec93-a87d62e09f65"
      },
      "execution_count": null,
      "outputs": [
        {
          "output_type": "stream",
          "name": "stdout",
          "text": [
            "(2.302565369424941, 0.09958465189873418)\n",
            "(2.302751894238629, 0.13993275316455697)\n",
            "(2.3045232507246958, 0.10096914556962025)\n",
            "(2.303002100956591, 0.13933939873417722)\n"
          ]
        }
      ]
    },
    {
      "cell_type": "markdown",
      "source": [
        "# iniciando treinamento"
      ],
      "metadata": {
        "id": "YJoNtIBuzV9j"
      }
    },
    {
      "cell_type": "code",
      "source": [
        "Model1_0 = model1().to(device)\n",
        "num_epoch = 8\n",
        "lr = 0.0001\n",
        "opt_func = torch.optim.Adam(Model1_0.parameters(), lr = lr, weight_decay = 0.00001)\n",
        "lossfunc = nn.CrossEntropyLoss()\n",
        "\n",
        "\n",
        "history1_0 = fit(num_epoch, Model1_0, train_dl, val_dl, lossfunc, opt_func, False)\n",
        "# -------------------------- PADRÃO ----------------------------------------------------------\n",
        "#aprovado"
      ],
      "metadata": {
        "colab": {
          "base_uri": "https://localhost:8080/"
        },
        "collapsed": true,
        "id": "4FQPF-gleqdf",
        "outputId": "03c4d9bd-8459-4eaa-af33-6056c8f03342"
      },
      "execution_count": null,
      "outputs": [
        {
          "output_type": "stream",
          "name": "stdout",
          "text": [
            "----------------------------------------\n",
            "epoch: 0 loss_train: 0.4815594713248865 loss_val: 0.31458136458185654 acc: 0.8850870253164557\n",
            "better\n",
            "----------------------------------------\n",
            "epoch: 1 loss_train: 0.2728113827421842 loss_val: 0.27149949647203275 acc: 0.9023931962025317\n",
            "better\n",
            "----------------------------------------\n",
            "epoch: 2 loss_train: 0.21248166914791097 loss_val: 0.2651802684310116 acc: 0.9052610759493671\n",
            "better\n",
            "----------------------------------------\n",
            "epoch: 3 loss_train: 0.16426971727205664 loss_val: 0.2572019710382329 acc: 0.9094145569620253\n",
            "better\n",
            "----------------------------------------\n",
            "epoch: 4 loss_train: 0.12397712545321725 loss_val: 0.25933805230674867 acc: 0.9119857594936709\n",
            "better\n",
            "----------------------------------------\n",
            "epoch: 5 loss_train: 0.09203074244148743 loss_val: 0.2809094375447382 acc: 0.9090189873417721\n",
            "----------------------------------------\n",
            "epoch: 6 loss_train: 0.06895416604397851 loss_val: 0.3021744540597819 acc: 0.9071400316455697\n",
            "----------------------------------------\n",
            "epoch: 7 loss_train: 0.052617821213610645 loss_val: 0.33091742620815207 acc: 0.9043710443037974\n"
          ]
        },
        {
          "output_type": "stream",
          "name": "stderr",
          "text": [
            "<ipython-input-11-814a6702a7c2>:49: FutureWarning: You are using `torch.load` with `weights_only=False` (the current default value), which uses the default pickle module implicitly. It is possible to construct malicious pickle data which will execute arbitrary code during unpickling (See https://github.com/pytorch/pytorch/blob/main/SECURITY.md#untrusted-models for more details). In a future release, the default value for `weights_only` will be flipped to `True`. This limits the functions that could be executed during unpickling. Arbitrary objects will no longer be allowed to be loaded via this mode unless they are explicitly allowlisted by the user via `torch.serialization.add_safe_globals`. We recommend you start setting `weights_only=True` for any use case where you don't have full control of the loaded file. Please open an issue on GitHub for any issues related to this experimental feature.\n",
            "  model.load_state_dict(torch.load(best_model_params_path))\n"
          ]
        }
      ]
    },
    {
      "cell_type": "code",
      "source": [
        "Model1_1 = model1().to(device)\n",
        "num_epoch = 8\n",
        "lr = 0.001\n",
        "opt_func = torch.optim.Adam(Model1_1.parameters(), lr = lr, weight_decay = 0.0001)\n",
        "lossfunc = nn.CrossEntropyLoss()\n",
        "\n",
        "\n",
        "history1_1 = fit(num_epoch, Model1_1, train_dl, val_dl, lossfunc, opt_func, False)"
      ],
      "metadata": {
        "colab": {
          "base_uri": "https://localhost:8080/"
        },
        "collapsed": true,
        "id": "bSToILf_fruC",
        "outputId": "244b2b2a-deca-4ab5-a692-e06ea65b691f"
      },
      "execution_count": null,
      "outputs": [
        {
          "output_type": "stream",
          "name": "stdout",
          "text": [
            "----------------------------------------\n",
            "epoch: 0 loss_train: 0.3662337819709802 loss_val: 0.270533552086806 acc: 0.9013053797468354\n",
            "better\n",
            "----------------------------------------\n",
            "epoch: 1 loss_train: 0.24400730572088294 loss_val: 0.23275638956435118 acc: 0.9158425632911392\n",
            "better\n",
            "----------------------------------------\n",
            "epoch: 2 loss_train: 0.20238641533247956 loss_val: 0.2483230495377432 acc: 0.9075356012658228\n",
            "----------------------------------------\n",
            "epoch: 3 loss_train: 0.17619716818146694 loss_val: 0.22982798639354826 acc: 0.9153481012658228\n",
            "----------------------------------------\n",
            "epoch: 4 loss_train: 0.15148961450666418 loss_val: 0.23269923219952401 acc: 0.917128164556962\n",
            "better\n",
            "----------------------------------------\n",
            "epoch: 5 loss_train: 0.13451046723386514 loss_val: 0.23101115189021146 acc: 0.9174248417721519\n",
            "better\n",
            "----------------------------------------\n",
            "epoch: 6 loss_train: 0.11409346254833062 loss_val: 0.2588684921023212 acc: 0.9126780063291139\n",
            "----------------------------------------\n",
            "epoch: 7 loss_train: 0.10526609551304442 loss_val: 0.249714092929152 acc: 0.9185126582278481\n",
            "better\n"
          ]
        },
        {
          "output_type": "stream",
          "name": "stderr",
          "text": [
            "<ipython-input-11-814a6702a7c2>:49: FutureWarning: You are using `torch.load` with `weights_only=False` (the current default value), which uses the default pickle module implicitly. It is possible to construct malicious pickle data which will execute arbitrary code during unpickling (See https://github.com/pytorch/pytorch/blob/main/SECURITY.md#untrusted-models for more details). In a future release, the default value for `weights_only` will be flipped to `True`. This limits the functions that could be executed during unpickling. Arbitrary objects will no longer be allowed to be loaded via this mode unless they are explicitly allowlisted by the user via `torch.serialization.add_safe_globals`. We recommend you start setting `weights_only=True` for any use case where you don't have full control of the loaded file. Please open an issue on GitHub for any issues related to this experimental feature.\n",
            "  model.load_state_dict(torch.load(best_model_params_path))\n"
          ]
        }
      ]
    },
    {
      "cell_type": "code",
      "source": [
        "Model1_2 = model1().to(device)\n",
        "num_epoch = 8\n",
        "lr = 0.0001\n",
        "opt_func = torch.optim.SGD(Model1_2.parameters(), lr = lr, weight_decay = 0.00001, momentum=0.9)\n",
        "\n",
        "lossfunc = nn.CrossEntropyLoss()\n",
        "\n",
        "\n",
        "history1_2 = fit(num_epoch, Model1_2, train_dl, val_dl, lossfunc, opt_func, False)"
      ],
      "metadata": {
        "colab": {
          "base_uri": "https://localhost:8080/"
        },
        "collapsed": true,
        "id": "XkuHchEVf8y8",
        "outputId": "8b1da254-152b-4d3d-c484-7a2c4668c60d"
      },
      "execution_count": null,
      "outputs": [
        {
          "output_type": "stream",
          "name": "stdout",
          "text": [
            "----------------------------------------\n",
            "epoch: 0 loss_train: 1.3314634691114011 loss_val: 0.8616240945043443 acc: 0.7460443037974683\n",
            "better\n",
            "----------------------------------------\n",
            "epoch: 1 loss_train: 0.77526476026496 loss_val: 0.6762284138534642 acc: 0.7785799050632911\n",
            "better\n",
            "----------------------------------------\n",
            "epoch: 2 loss_train: 0.6522618833252841 loss_val: 0.5934157639364653 acc: 0.7986550632911392\n",
            "better\n",
            "----------------------------------------\n",
            "epoch: 3 loss_train: 0.5832844612086215 loss_val: 0.5405217971228347 acc: 0.8161590189873418\n",
            "better\n",
            "----------------------------------------\n",
            "epoch: 4 loss_train: 0.5339774555714843 loss_val: 0.49986381394953666 acc: 0.8300039556962026\n",
            "better\n",
            "----------------------------------------\n",
            "epoch: 5 loss_train: 0.4957826757217612 loss_val: 0.4660551121717767 acc: 0.8419699367088608\n",
            "better\n",
            "----------------------------------------\n",
            "epoch: 6 loss_train: 0.4664657724940259 loss_val: 0.4399980638600603 acc: 0.8493868670886076\n",
            "better\n",
            "----------------------------------------\n",
            "epoch: 7 loss_train: 0.4424936807978794 loss_val: 0.41847196183627167 acc: 0.8554193037974683\n",
            "better\n"
          ]
        },
        {
          "output_type": "stream",
          "name": "stderr",
          "text": [
            "<ipython-input-11-814a6702a7c2>:49: FutureWarning: You are using `torch.load` with `weights_only=False` (the current default value), which uses the default pickle module implicitly. It is possible to construct malicious pickle data which will execute arbitrary code during unpickling (See https://github.com/pytorch/pytorch/blob/main/SECURITY.md#untrusted-models for more details). In a future release, the default value for `weights_only` will be flipped to `True`. This limits the functions that could be executed during unpickling. Arbitrary objects will no longer be allowed to be loaded via this mode unless they are explicitly allowlisted by the user via `torch.serialization.add_safe_globals`. We recommend you start setting `weights_only=True` for any use case where you don't have full control of the loaded file. Please open an issue on GitHub for any issues related to this experimental feature.\n",
            "  model.load_state_dict(torch.load(best_model_params_path))\n"
          ]
        }
      ]
    },
    {
      "cell_type": "code",
      "source": [
        "Model1_3 = model1().to(device)\n",
        "num_epoch = 8\n",
        "lr = 0.005\n",
        "opt_func = torch.optim.SGD(Model1_3.parameters(), lr = lr, weight_decay = 0.0001, momentum=0.99)\n",
        "lossfunc = nn.CrossEntropyLoss()\n",
        "\n",
        "history1_3 = fit(num_epoch, Model1_3, train_dl, val_dl, lossfunc, opt_func, False)\n",
        "#aprovado"
      ],
      "metadata": {
        "colab": {
          "base_uri": "https://localhost:8080/"
        },
        "id": "rjDsBlatf_Vp",
        "outputId": "2483b8f9-c41a-4fde-d600-78d5f8bcacbc"
      },
      "execution_count": null,
      "outputs": [
        {
          "output_type": "stream",
          "name": "stdout",
          "text": [
            "----------------------------------------\n",
            "epoch: 0 loss_train: 0.4841515286956602 loss_val: 0.46409394129922116 acc: 0.8404865506329114\n",
            "better\n",
            "----------------------------------------\n",
            "epoch: 1 loss_train: 0.2936364093323803 loss_val: 0.27145038714891745 acc: 0.8994264240506329\n",
            "better\n",
            "----------------------------------------\n",
            "epoch: 2 loss_train: 0.24552896860844034 loss_val: 0.24009072912644736 acc: 0.9124802215189873\n",
            "better\n",
            "----------------------------------------\n",
            "epoch: 3 loss_train: 0.2098484009580539 loss_val: 0.22681769247673736 acc: 0.9174248417721519\n",
            "better\n",
            "----------------------------------------\n",
            "epoch: 4 loss_train: 0.18633934264750127 loss_val: 0.23015154954753345 acc: 0.9150514240506329\n",
            "----------------------------------------\n",
            "epoch: 5 loss_train: 0.15832554828137388 loss_val: 0.22150414210708835 acc: 0.9233583860759493\n",
            "better\n",
            "----------------------------------------\n",
            "epoch: 6 loss_train: 0.14055635260842037 loss_val: 0.2299291854606399 acc: 0.9198971518987342\n",
            "----------------------------------------\n",
            "epoch: 7 loss_train: 0.12968753364956592 loss_val: 0.22576822840337513 acc: 0.9229628164556962\n"
          ]
        },
        {
          "output_type": "stream",
          "name": "stderr",
          "text": [
            "<ipython-input-11-814a6702a7c2>:49: FutureWarning: You are using `torch.load` with `weights_only=False` (the current default value), which uses the default pickle module implicitly. It is possible to construct malicious pickle data which will execute arbitrary code during unpickling (See https://github.com/pytorch/pytorch/blob/main/SECURITY.md#untrusted-models for more details). In a future release, the default value for `weights_only` will be flipped to `True`. This limits the functions that could be executed during unpickling. Arbitrary objects will no longer be allowed to be loaded via this mode unless they are explicitly allowlisted by the user via `torch.serialization.add_safe_globals`. We recommend you start setting `weights_only=True` for any use case where you don't have full control of the loaded file. Please open an issue on GitHub for any issues related to this experimental feature.\n",
            "  model.load_state_dict(torch.load(best_model_params_path))\n"
          ]
        }
      ]
    },
    {
      "cell_type": "code",
      "source": [
        "Model2_0 = model2().to(device)\n",
        "num_epoch = 8\n",
        "lr = 0.0001\n",
        "opt_func = torch.optim.Adam(Model2_0.parameters(), lr = lr, weight_decay = 0.00001)\n",
        "lossfunc = nn.CrossEntropyLoss()\n",
        "\n",
        "history2_0 = fit(num_epoch, Model2_0, train_dl, val_dl, lossfunc, opt_func, False)\n",
        "# -------------------------- PADRÃO ----------------------------------------------------------"
      ],
      "metadata": {
        "colab": {
          "base_uri": "https://localhost:8080/"
        },
        "collapsed": true,
        "id": "XklosImGg1P9",
        "outputId": "6c92e0dd-6809-4924-e8ae-f6226c1d9066"
      },
      "execution_count": null,
      "outputs": [
        {
          "output_type": "stream",
          "name": "stdout",
          "text": [
            "----------------------------------------\n",
            "epoch: 0 loss_train: 0.38358735134991845 loss_val: 0.2654888373387011 acc: 0.9037776898734177\n",
            "better\n",
            "----------------------------------------\n",
            "epoch: 1 loss_train: 0.21272836844710744 loss_val: 0.241043150236335 acc: 0.9107001582278481\n",
            "better\n",
            "----------------------------------------\n",
            "epoch: 2 loss_train: 0.1425914918465535 loss_val: 0.24656281101552746 acc: 0.9104034810126582\n",
            "----------------------------------------\n",
            "epoch: 3 loss_train: 0.09321429107404883 loss_val: 0.23985171874489966 acc: 0.919501582278481\n",
            "better\n",
            "----------------------------------------\n",
            "epoch: 4 loss_train: 0.05803519074836046 loss_val: 0.2624897605067567 acc: 0.9180181962025317\n",
            "----------------------------------------\n",
            "epoch: 5 loss_train: 0.037075161043068634 loss_val: 0.3137613389688202 acc: 0.9106012658227848\n",
            "----------------------------------------\n",
            "epoch: 6 loss_train: 0.026432995653480215 loss_val: 0.3008490338732925 acc: 0.916435917721519\n",
            "----------------------------------------\n",
            "epoch: 7 loss_train: 0.01963567323780254 loss_val: 0.332005037537104 acc: 0.913370253164557\n"
          ]
        },
        {
          "output_type": "stream",
          "name": "stderr",
          "text": [
            "<ipython-input-11-814a6702a7c2>:49: FutureWarning: You are using `torch.load` with `weights_only=False` (the current default value), which uses the default pickle module implicitly. It is possible to construct malicious pickle data which will execute arbitrary code during unpickling (See https://github.com/pytorch/pytorch/blob/main/SECURITY.md#untrusted-models for more details). In a future release, the default value for `weights_only` will be flipped to `True`. This limits the functions that could be executed during unpickling. Arbitrary objects will no longer be allowed to be loaded via this mode unless they are explicitly allowlisted by the user via `torch.serialization.add_safe_globals`. We recommend you start setting `weights_only=True` for any use case where you don't have full control of the loaded file. Please open an issue on GitHub for any issues related to this experimental feature.\n",
            "  model.load_state_dict(torch.load(best_model_params_path))\n"
          ]
        }
      ]
    },
    {
      "cell_type": "code",
      "source": [
        "Model2_1 = model2().to(device)\n",
        "num_epoch = 8\n",
        "lr = 0.0005\n",
        "opt_func = torch.optim.Adam(Model2_1.parameters(), lr = lr, weight_decay = 0.00005)\n",
        "lossfunc = nn.CrossEntropyLoss()\n",
        "\n",
        "\n",
        "history2_1 = fit(num_epoch, Model2_1, train_dl, val_dl, lossfunc, opt_func, False)"
      ],
      "metadata": {
        "colab": {
          "base_uri": "https://localhost:8080/"
        },
        "id": "9nRQ4csJg3WC",
        "outputId": "11963247-3812-4f0f-b07f-3d21d97f94d5"
      },
      "execution_count": null,
      "outputs": [
        {
          "output_type": "stream",
          "name": "stdout",
          "text": [
            "----------------------------------------\n",
            "epoch: 0 loss_train: 0.33169477392950325 loss_val: 0.24718485150156141 acc: 0.9073378164556962\n",
            "better\n",
            "----------------------------------------\n",
            "epoch: 1 loss_train: 0.21032377951742742 loss_val: 0.21991729066718982 acc: 0.9180181962025317\n",
            "better\n",
            "----------------------------------------\n",
            "epoch: 2 loss_train: 0.16421889134532655 loss_val: 0.21501214236398286 acc: 0.9228639240506329\n",
            "better\n",
            "----------------------------------------\n",
            "epoch: 3 loss_train: 0.12901260429407324 loss_val: 0.23813041714550573 acc: 0.9119857594936709\n",
            "----------------------------------------\n",
            "epoch: 4 loss_train: 0.09854601303120251 loss_val: 0.2315431196666971 acc: 0.9194026898734177\n",
            "----------------------------------------\n",
            "epoch: 5 loss_train: 0.07824642907189744 loss_val: 0.3228183865924425 acc: 0.9024920886075949\n",
            "----------------------------------------\n",
            "epoch: 6 loss_train: 0.0623734746476078 loss_val: 0.2552337093821055 acc: 0.920193829113924\n",
            "----------------------------------------\n",
            "epoch: 7 loss_train: 0.054828821333682595 loss_val: 0.2747872751913493 acc: 0.9200949367088608\n"
          ]
        },
        {
          "output_type": "stream",
          "name": "stderr",
          "text": [
            "<ipython-input-11-814a6702a7c2>:49: FutureWarning: You are using `torch.load` with `weights_only=False` (the current default value), which uses the default pickle module implicitly. It is possible to construct malicious pickle data which will execute arbitrary code during unpickling (See https://github.com/pytorch/pytorch/blob/main/SECURITY.md#untrusted-models for more details). In a future release, the default value for `weights_only` will be flipped to `True`. This limits the functions that could be executed during unpickling. Arbitrary objects will no longer be allowed to be loaded via this mode unless they are explicitly allowlisted by the user via `torch.serialization.add_safe_globals`. We recommend you start setting `weights_only=True` for any use case where you don't have full control of the loaded file. Please open an issue on GitHub for any issues related to this experimental feature.\n",
            "  model.load_state_dict(torch.load(best_model_params_path))\n"
          ]
        }
      ]
    },
    {
      "cell_type": "code",
      "source": [
        "Model2_2 = model2().to(device)\n",
        "num_epoch = 8\n",
        "lr = 0.001\n",
        "opt_func = torch.optim.Adam(Model2_2.parameters(), lr = lr)\n",
        "lossfunc = nn.CrossEntropyLoss()\n",
        "\n",
        "\n",
        "history2_2 = fit(num_epoch, Model2_2, train_dl, val_dl, lossfunc, opt_func, False)\n",
        "#aprovado"
      ],
      "metadata": {
        "colab": {
          "base_uri": "https://localhost:8080/"
        },
        "id": "ORFiOvt5g5sR",
        "outputId": "b76f10f0-88ca-49f0-bcf1-bd53b703d3f6"
      },
      "execution_count": null,
      "outputs": [
        {
          "output_type": "stream",
          "name": "stdout",
          "text": [
            "----------------------------------------\n",
            "epoch: 0 loss_train: 0.3242461692417979 loss_val: 0.2581100051727476 acc: 0.9004153481012658\n",
            "better\n",
            "----------------------------------------\n",
            "epoch: 1 loss_train: 0.21569075938457113 loss_val: 0.20953958453256874 acc: 0.9223694620253164\n",
            "better\n",
            "----------------------------------------\n",
            "epoch: 2 loss_train: 0.17032533415290704 loss_val: 0.201986002582538 acc: 0.9221716772151899\n",
            "----------------------------------------\n",
            "epoch: 3 loss_train: 0.139163161539818 loss_val: 0.2056980001021035 acc: 0.9299841772151899\n",
            "better\n",
            "----------------------------------------\n",
            "epoch: 4 loss_train: 0.10674191578803464 loss_val: 0.19713053748577455 acc: 0.931368670886076\n",
            "better\n",
            "----------------------------------------\n",
            "epoch: 5 loss_train: 0.08690103296847905 loss_val: 0.21717260928848123 acc: 0.9282041139240507\n",
            "----------------------------------------\n",
            "epoch: 6 loss_train: 0.06764113919838044 loss_val: 0.23504130712038354 acc: 0.9277096518987342\n",
            "----------------------------------------\n",
            "epoch: 7 loss_train: 0.05635667240361462 loss_val: 0.2299254153725467 acc: 0.9329509493670886\n",
            "better\n"
          ]
        },
        {
          "output_type": "stream",
          "name": "stderr",
          "text": [
            "<ipython-input-11-814a6702a7c2>:49: FutureWarning: You are using `torch.load` with `weights_only=False` (the current default value), which uses the default pickle module implicitly. It is possible to construct malicious pickle data which will execute arbitrary code during unpickling (See https://github.com/pytorch/pytorch/blob/main/SECURITY.md#untrusted-models for more details). In a future release, the default value for `weights_only` will be flipped to `True`. This limits the functions that could be executed during unpickling. Arbitrary objects will no longer be allowed to be loaded via this mode unless they are explicitly allowlisted by the user via `torch.serialization.add_safe_globals`. We recommend you start setting `weights_only=True` for any use case where you don't have full control of the loaded file. Please open an issue on GitHub for any issues related to this experimental feature.\n",
            "  model.load_state_dict(torch.load(best_model_params_path))\n"
          ]
        }
      ]
    },
    {
      "cell_type": "code",
      "source": [
        "Model2_3 = model2().to(device)\n",
        "num_epoch = 8\n",
        "lr = 0.01\n",
        "opt_func = torch.optim.SGD(Model2_3.parameters(), lr = lr,  momentum=0.80)\n",
        "lossfunc = nn.CrossEntropyLoss()\n",
        "\n",
        "\n",
        "history2_3 = fit(num_epoch, Model2_3, train_dl, val_dl, lossfunc, opt_func, False)\n",
        "#aprovado"
      ],
      "metadata": {
        "colab": {
          "base_uri": "https://localhost:8080/"
        },
        "id": "Wd0ocEAyg-Yr",
        "outputId": "e8697d6e-d305-4eff-ab2a-a5ca8e5cc0ff"
      },
      "execution_count": null,
      "outputs": [
        {
          "output_type": "stream",
          "name": "stdout",
          "text": [
            "----------------------------------------\n",
            "epoch: 0 loss_train: 0.37384456680025285 loss_val: 0.3003068341861797 acc: 0.8879549050632911\n",
            "better\n",
            "----------------------------------------\n",
            "epoch: 1 loss_train: 0.22732099879275808 loss_val: 0.2265418749066848 acc: 0.915743670886076\n",
            "better\n",
            "----------------------------------------\n",
            "epoch: 2 loss_train: 0.1794353227900422 loss_val: 0.21919845054044 acc: 0.920193829113924\n",
            "better\n",
            "----------------------------------------\n",
            "epoch: 3 loss_train: 0.14482411526886704 loss_val: 0.2024669081349916 acc: 0.9270174050632911\n",
            "better\n",
            "----------------------------------------\n",
            "epoch: 4 loss_train: 0.11196625920112634 loss_val: 0.2321473924985415 acc: 0.9208860759493671\n",
            "----------------------------------------\n",
            "epoch: 5 loss_train: 0.08729066361513589 loss_val: 0.21706097752233094 acc: 0.9244462025316456\n",
            "----------------------------------------\n",
            "epoch: 6 loss_train: 0.06438753920633469 loss_val: 0.22886967795747745 acc: 0.9282041139240507\n",
            "better\n",
            "----------------------------------------\n",
            "epoch: 7 loss_train: 0.0465062220790483 loss_val: 0.26148795341200465 acc: 0.926621835443038\n"
          ]
        },
        {
          "output_type": "stream",
          "name": "stderr",
          "text": [
            "<ipython-input-11-814a6702a7c2>:49: FutureWarning: You are using `torch.load` with `weights_only=False` (the current default value), which uses the default pickle module implicitly. It is possible to construct malicious pickle data which will execute arbitrary code during unpickling (See https://github.com/pytorch/pytorch/blob/main/SECURITY.md#untrusted-models for more details). In a future release, the default value for `weights_only` will be flipped to `True`. This limits the functions that could be executed during unpickling. Arbitrary objects will no longer be allowed to be loaded via this mode unless they are explicitly allowlisted by the user via `torch.serialization.add_safe_globals`. We recommend you start setting `weights_only=True` for any use case where you don't have full control of the loaded file. Please open an issue on GitHub for any issues related to this experimental feature.\n",
            "  model.load_state_dict(torch.load(best_model_params_path))\n"
          ]
        }
      ]
    },
    {
      "cell_type": "code",
      "source": [
        "Model3_0 = model3().to(device)\n",
        "num_epoch = 8\n",
        "lr = 0.0001\n",
        "opt_func = torch.optim.Adam(Model3_0.parameters(), lr = lr, weight_decay = 0.00001)\n",
        "lossfunc = nn.CrossEntropyLoss()\n",
        "\n",
        "\n",
        "history3_0 = fit(num_epoch, Model3_0, train_dl, val_dl, lossfunc, opt_func, False)\n",
        "# -------------------------- PADRÃO ----------------------------------------------------------"
      ],
      "metadata": {
        "colab": {
          "base_uri": "https://localhost:8080/"
        },
        "collapsed": true,
        "id": "PtPn_ucDg7Pi",
        "outputId": "796ee74c-141f-4f32-8904-c6fd1f985829"
      },
      "execution_count": null,
      "outputs": [
        {
          "output_type": "stream",
          "name": "stdout",
          "text": [
            "----------------------------------------\n",
            "epoch: 0 loss_train: 0.9838604800536505 loss_val: 0.5777796333349203 acc: 0.8244659810126582\n",
            "better\n",
            "----------------------------------------\n",
            "epoch: 1 loss_train: 0.5747149146121481 loss_val: 0.4225424826145172 acc: 0.8635284810126582\n",
            "better\n",
            "----------------------------------------\n",
            "epoch: 2 loss_train: 0.4573280685545538 loss_val: 0.3660302277230009 acc: 0.8723299050632911\n",
            "better\n",
            "----------------------------------------\n",
            "epoch: 3 loss_train: 0.40109169132569256 loss_val: 0.32588338795342026 acc: 0.885878164556962\n",
            "better\n",
            "----------------------------------------\n",
            "epoch: 4 loss_train: 0.3655245261805137 loss_val: 0.3076619745432576 acc: 0.8908227848101266\n",
            "better\n",
            "----------------------------------------\n",
            "epoch: 5 loss_train: 0.3410189083927428 loss_val: 0.2925731111553651 acc: 0.8970530063291139\n",
            "better\n",
            "----------------------------------------\n",
            "epoch: 6 loss_train: 0.32148565515837707 loss_val: 0.2798930987527099 acc: 0.9017009493670886\n",
            "better\n",
            "----------------------------------------\n",
            "epoch: 7 loss_train: 0.3049306511269201 loss_val: 0.27218418823012824 acc: 0.9013053797468354\n"
          ]
        },
        {
          "output_type": "stream",
          "name": "stderr",
          "text": [
            "<ipython-input-11-814a6702a7c2>:49: FutureWarning: You are using `torch.load` with `weights_only=False` (the current default value), which uses the default pickle module implicitly. It is possible to construct malicious pickle data which will execute arbitrary code during unpickling (See https://github.com/pytorch/pytorch/blob/main/SECURITY.md#untrusted-models for more details). In a future release, the default value for `weights_only` will be flipped to `True`. This limits the functions that could be executed during unpickling. Arbitrary objects will no longer be allowed to be loaded via this mode unless they are explicitly allowlisted by the user via `torch.serialization.add_safe_globals`. We recommend you start setting `weights_only=True` for any use case where you don't have full control of the loaded file. Please open an issue on GitHub for any issues related to this experimental feature.\n",
            "  model.load_state_dict(torch.load(best_model_params_path))\n"
          ]
        }
      ]
    },
    {
      "cell_type": "code",
      "source": [
        "Model3_1 = model3().to(device)\n",
        "num_epoch = 6\n",
        "lr = 0.000015\n",
        "opt_func = torch.optim.Adam(Model3_1.parameters(), lr = lr,  weight_decay = 0.000001)\n",
        "lossfunc = nn.CrossEntropyLoss()\n",
        "\n",
        "\n",
        "history3_1 = fit(num_epoch, Model3_1, train_dl, val_dl, lossfunc, opt_func, False)"
      ],
      "metadata": {
        "colab": {
          "base_uri": "https://localhost:8080/"
        },
        "collapsed": true,
        "id": "zO1SE5RUhA75",
        "outputId": "ca41ff07-1129-4961-afea-777b7c9f42fd"
      },
      "execution_count": null,
      "outputs": [
        {
          "output_type": "stream",
          "name": "stdout",
          "text": [
            "----------------------------------------\n",
            "epoch: 0 loss_train: 1.5905656064562785 loss_val: 1.083111714713181 acc: 0.732693829113924\n",
            "better\n",
            "----------------------------------------\n",
            "epoch: 1 loss_train: 1.0901844112769417 loss_val: 0.8762676821479315 acc: 0.7657238924050633\n",
            "better\n",
            "----------------------------------------\n",
            "epoch: 2 loss_train: 0.9253255522159665 loss_val: 0.762474078166334 acc: 0.7877768987341772\n",
            "better\n",
            "----------------------------------------\n",
            "epoch: 3 loss_train: 0.8253276125549356 loss_val: 0.6775480259822894 acc: 0.802314082278481\n",
            "better\n",
            "----------------------------------------\n",
            "epoch: 4 loss_train: 0.7496044661687769 loss_val: 0.6198462700542016 acc: 0.8164556962025317\n",
            "better\n",
            "----------------------------------------\n",
            "epoch: 5 loss_train: 0.6933036268214741 loss_val: 0.5675196662733827 acc: 0.8293117088607594\n",
            "better\n"
          ]
        },
        {
          "output_type": "stream",
          "name": "stderr",
          "text": [
            "<ipython-input-11-814a6702a7c2>:49: FutureWarning: You are using `torch.load` with `weights_only=False` (the current default value), which uses the default pickle module implicitly. It is possible to construct malicious pickle data which will execute arbitrary code during unpickling (See https://github.com/pytorch/pytorch/blob/main/SECURITY.md#untrusted-models for more details). In a future release, the default value for `weights_only` will be flipped to `True`. This limits the functions that could be executed during unpickling. Arbitrary objects will no longer be allowed to be loaded via this mode unless they are explicitly allowlisted by the user via `torch.serialization.add_safe_globals`. We recommend you start setting `weights_only=True` for any use case where you don't have full control of the loaded file. Please open an issue on GitHub for any issues related to this experimental feature.\n",
            "  model.load_state_dict(torch.load(best_model_params_path))\n"
          ]
        }
      ]
    },
    {
      "cell_type": "code",
      "source": [
        "Model3_2 = model3().to(device)\n",
        "num_epoch = 8\n",
        "lr = 0.0001\n",
        "opt_func = torch.optim.Adam(Model3_2.parameters(), lr = lr)\n",
        "lossfunc = nn.CrossEntropyLoss()\n",
        "\n",
        "\n",
        "history3_2 = fit(num_epoch, Model3_2, train_dl, val_dl, lossfunc, opt_func, False)"
      ],
      "metadata": {
        "colab": {
          "base_uri": "https://localhost:8080/"
        },
        "collapsed": true,
        "id": "RbZ1q0y_hC3S",
        "outputId": "baff3db1-0672-451e-b7e6-6b6d44e1d907"
      },
      "execution_count": null,
      "outputs": [
        {
          "output_type": "stream",
          "name": "stdout",
          "text": [
            "----------------------------------------\n",
            "epoch: 0 loss_train: 0.9719193919235484 loss_val: 0.5652795283100273 acc: 0.8283227848101266\n",
            "better\n",
            "----------------------------------------\n",
            "epoch: 1 loss_train: 0.5555823385105718 loss_val: 0.40435720923580704 acc: 0.8687697784810127\n",
            "better\n",
            "----------------------------------------\n",
            "epoch: 2 loss_train: 0.44059008817233697 loss_val: 0.3471694705607016 acc: 0.8815268987341772\n",
            "better\n",
            "----------------------------------------\n",
            "epoch: 3 loss_train: 0.3880011362340444 loss_val: 0.31472186499004123 acc: 0.8894382911392406\n",
            "better\n",
            "----------------------------------------\n",
            "epoch: 4 loss_train: 0.3520289332513004 loss_val: 0.2994421088620077 acc: 0.893690664556962\n",
            "better\n",
            "----------------------------------------\n",
            "epoch: 5 loss_train: 0.3280447730246712 loss_val: 0.28058939568604097 acc: 0.9014042721518988\n",
            "better\n",
            "----------------------------------------\n",
            "epoch: 6 loss_train: 0.31170128613634185 loss_val: 0.2695514422051514 acc: 0.9046677215189873\n",
            "better\n",
            "----------------------------------------\n",
            "epoch: 7 loss_train: 0.29406341052878543 loss_val: 0.2643143634630155 acc: 0.905557753164557\n",
            "better\n"
          ]
        },
        {
          "output_type": "stream",
          "name": "stderr",
          "text": [
            "<ipython-input-11-814a6702a7c2>:49: FutureWarning: You are using `torch.load` with `weights_only=False` (the current default value), which uses the default pickle module implicitly. It is possible to construct malicious pickle data which will execute arbitrary code during unpickling (See https://github.com/pytorch/pytorch/blob/main/SECURITY.md#untrusted-models for more details). In a future release, the default value for `weights_only` will be flipped to `True`. This limits the functions that could be executed during unpickling. Arbitrary objects will no longer be allowed to be loaded via this mode unless they are explicitly allowlisted by the user via `torch.serialization.add_safe_globals`. We recommend you start setting `weights_only=True` for any use case where you don't have full control of the loaded file. Please open an issue on GitHub for any issues related to this experimental feature.\n",
            "  model.load_state_dict(torch.load(best_model_params_path))\n"
          ]
        }
      ]
    },
    {
      "cell_type": "code",
      "source": [
        "Model4_0 = model4().to(device)\n",
        "num_epoch = 8\n",
        "lr = 0.0001\n",
        "opt_func = torch.optim.Adam(Model4_0.parameters(), lr = lr, weight_decay = 0.00001)\n",
        "lossfunc = nn.CrossEntropyLoss()\n",
        "\n",
        "\n",
        "history4_0 = fit(num_epoch, Model4_0, train_dl, val_dl, lossfunc, opt_func, False)\n",
        "# -------------------------- PADRÃO ----------------------------------------------------------\n",
        "#aprovado"
      ],
      "metadata": {
        "colab": {
          "base_uri": "https://localhost:8080/"
        },
        "id": "GeMotDrthFqZ",
        "outputId": "9769a0ff-7765-456a-f600-5aba10dcd817"
      },
      "execution_count": null,
      "outputs": [
        {
          "output_type": "stream",
          "name": "stdout",
          "text": [
            "----------------------------------------\n",
            "epoch: 0 loss_train: 0.4994882327287703 loss_val: 0.3304612176327766 acc: 0.8781645569620253\n",
            "better\n",
            "----------------------------------------\n",
            "epoch: 1 loss_train: 0.2780047290960846 loss_val: 0.25816336170404774 acc: 0.9058544303797469\n",
            "better\n",
            "----------------------------------------\n",
            "epoch: 2 loss_train: 0.22138555208816552 loss_val: 0.23280378534824034 acc: 0.9139636075949367\n",
            "better\n",
            "----------------------------------------\n",
            "epoch: 3 loss_train: 0.18079834033156295 loss_val: 0.2289209148929089 acc: 0.9172270569620253\n",
            "better\n",
            "----------------------------------------\n",
            "epoch: 4 loss_train: 0.14646702043502532 loss_val: 0.2175370380282402 acc: 0.9213805379746836\n",
            "better\n",
            "----------------------------------------\n",
            "epoch: 5 loss_train: 0.11716294067595011 loss_val: 0.22531672501111333 acc: 0.9189082278481012\n",
            "----------------------------------------\n",
            "epoch: 6 loss_train: 0.08907559217737458 loss_val: 0.2375830948541436 acc: 0.9196004746835443\n",
            "----------------------------------------\n",
            "epoch: 7 loss_train: 0.06864120005665685 loss_val: 0.23608886601426934 acc: 0.9216772151898734\n",
            "better\n"
          ]
        },
        {
          "output_type": "stream",
          "name": "stderr",
          "text": [
            "<ipython-input-11-814a6702a7c2>:49: FutureWarning: You are using `torch.load` with `weights_only=False` (the current default value), which uses the default pickle module implicitly. It is possible to construct malicious pickle data which will execute arbitrary code during unpickling (See https://github.com/pytorch/pytorch/blob/main/SECURITY.md#untrusted-models for more details). In a future release, the default value for `weights_only` will be flipped to `True`. This limits the functions that could be executed during unpickling. Arbitrary objects will no longer be allowed to be loaded via this mode unless they are explicitly allowlisted by the user via `torch.serialization.add_safe_globals`. We recommend you start setting `weights_only=True` for any use case where you don't have full control of the loaded file. Please open an issue on GitHub for any issues related to this experimental feature.\n",
            "  model.load_state_dict(torch.load(best_model_params_path))\n"
          ]
        }
      ]
    },
    {
      "cell_type": "code",
      "source": [
        "Model4_1 = model4().to(device)\n",
        "num_epoch = 8\n",
        "lr = 0.001\n",
        "opt_func = torch.optim.SGD(Model4_1.parameters(), lr = lr, weight_decay = 0.00001,  momentum=0.80)\n",
        "lossfunc = nn.CrossEntropyLoss()\n",
        "\n",
        "\n",
        "history4_1 = fit(num_epoch, Model4_1, train_dl, val_dl, lossfunc, opt_func, False)"
      ],
      "metadata": {
        "colab": {
          "base_uri": "https://localhost:8080/"
        },
        "collapsed": true,
        "id": "S4uN8ZuohHaQ",
        "outputId": "b21cec39-aabe-4729-8f6e-77945e1780c7"
      },
      "execution_count": null,
      "outputs": [
        {
          "output_type": "stream",
          "name": "stdout",
          "text": [
            "----------------------------------------\n",
            "epoch: 0 loss_train: 0.7938619434376202 loss_val: 0.4846346706529207 acc: 0.8295094936708861\n",
            "better\n",
            "----------------------------------------\n",
            "epoch: 1 loss_train: 0.43591919861486195 loss_val: 0.37597478643248355 acc: 0.8653085443037974\n",
            "better\n",
            "----------------------------------------\n",
            "epoch: 2 loss_train: 0.35798155125754566 loss_val: 0.33150467144537576 acc: 0.8826147151898734\n",
            "better\n",
            "----------------------------------------\n",
            "epoch: 3 loss_train: 0.3154204430635018 loss_val: 0.31340483906148353 acc: 0.8868670886075949\n",
            "better\n",
            "----------------------------------------\n",
            "epoch: 4 loss_train: 0.2866864311496925 loss_val: 0.2823080005525034 acc: 0.8978441455696202\n",
            "better\n",
            "----------------------------------------\n",
            "epoch: 5 loss_train: 0.264505061995038 loss_val: 0.2760078803270678 acc: 0.8995253164556962\n",
            "better\n",
            "----------------------------------------\n",
            "epoch: 6 loss_train: 0.24588428281457222 loss_val: 0.2762512357174596 acc: 0.9003164556962026\n",
            "better\n",
            "----------------------------------------\n",
            "epoch: 7 loss_train: 0.22828556155152332 loss_val: 0.25697235121757167 acc: 0.9077333860759493\n",
            "better\n"
          ]
        },
        {
          "output_type": "stream",
          "name": "stderr",
          "text": [
            "<ipython-input-11-814a6702a7c2>:49: FutureWarning: You are using `torch.load` with `weights_only=False` (the current default value), which uses the default pickle module implicitly. It is possible to construct malicious pickle data which will execute arbitrary code during unpickling (See https://github.com/pytorch/pytorch/blob/main/SECURITY.md#untrusted-models for more details). In a future release, the default value for `weights_only` will be flipped to `True`. This limits the functions that could be executed during unpickling. Arbitrary objects will no longer be allowed to be loaded via this mode unless they are explicitly allowlisted by the user via `torch.serialization.add_safe_globals`. We recommend you start setting `weights_only=True` for any use case where you don't have full control of the loaded file. Please open an issue on GitHub for any issues related to this experimental feature.\n",
            "  model.load_state_dict(torch.load(best_model_params_path))\n"
          ]
        }
      ]
    },
    {
      "cell_type": "code",
      "source": [
        "Model4_2 = model4().to(device)\n",
        "num_epoch = 8\n",
        "lr = 0.001\n",
        "opt_func = torch.optim.Adam(Model4_2.parameters(), lr = lr, weight_decay = 0.00001)\n",
        "lossfunc = nn.CrossEntropyLoss()\n",
        "\n",
        "\n",
        "history4_2 = fit(num_epoch, Model4_2, train_dl, val_dl, lossfunc, opt_func, False)"
      ],
      "metadata": {
        "colab": {
          "base_uri": "https://localhost:8080/"
        },
        "id": "a0QmuO0_hJVi",
        "outputId": "35661176-dde8-4a40-b5fa-534324c57849"
      },
      "execution_count": null,
      "outputs": [
        {
          "output_type": "stream",
          "name": "stdout",
          "text": [
            "----------------------------------------\n",
            "epoch: 0 loss_train: 0.3923589107020737 loss_val: 0.27408684903307806 acc: 0.8968552215189873\n",
            "better\n",
            "----------------------------------------\n",
            "epoch: 1 loss_train: 0.24550094973781836 loss_val: 0.26309288623212257 acc: 0.9029865506329114\n",
            "better\n",
            "----------------------------------------\n",
            "epoch: 2 loss_train: 0.20620182379508567 loss_val: 0.252994412296935 acc: 0.9142602848101266\n",
            "better\n",
            "----------------------------------------\n",
            "epoch: 3 loss_train: 0.17333704435154604 loss_val: 0.20897926795708982 acc: 0.924940664556962\n",
            "better\n",
            "----------------------------------------\n",
            "epoch: 4 loss_train: 0.14474654750293478 loss_val: 0.21835219011276583 acc: 0.9233583860759493\n",
            "----------------------------------------\n",
            "epoch: 5 loss_train: 0.12297265678453628 loss_val: 0.19887600527911248 acc: 0.9314675632911392\n",
            "better\n",
            "----------------------------------------\n",
            "epoch: 6 loss_train: 0.10791309191690535 loss_val: 0.20875833928585052 acc: 0.9323575949367089\n",
            "better\n",
            "----------------------------------------\n",
            "epoch: 7 loss_train: 0.08693598441379455 loss_val: 0.23034538960532297 acc: 0.9296875\n"
          ]
        },
        {
          "output_type": "stream",
          "name": "stderr",
          "text": [
            "<ipython-input-11-814a6702a7c2>:49: FutureWarning: You are using `torch.load` with `weights_only=False` (the current default value), which uses the default pickle module implicitly. It is possible to construct malicious pickle data which will execute arbitrary code during unpickling (See https://github.com/pytorch/pytorch/blob/main/SECURITY.md#untrusted-models for more details). In a future release, the default value for `weights_only` will be flipped to `True`. This limits the functions that could be executed during unpickling. Arbitrary objects will no longer be allowed to be loaded via this mode unless they are explicitly allowlisted by the user via `torch.serialization.add_safe_globals`. We recommend you start setting `weights_only=True` for any use case where you don't have full control of the loaded file. Please open an issue on GitHub for any issues related to this experimental feature.\n",
            "  model.load_state_dict(torch.load(best_model_params_path))\n"
          ]
        }
      ]
    },
    {
      "cell_type": "code",
      "source": [
        "Model4_3 = model4().to(device)\n",
        "num_epoch = 8\n",
        "lr = 0.0001\n",
        "opt_func = torch.optim.Adam(Model4_3.parameters(), lr = lr, weight_decay = 0.0001)\n",
        "lossfunc = nn.CrossEntropyLoss()\n",
        "\n",
        "\n",
        "history4_3 = fit(num_epoch, Model4_3, train_dl, val_dl, lossfunc, opt_func, False)\n",
        "#aprovado"
      ],
      "metadata": {
        "colab": {
          "base_uri": "https://localhost:8080/"
        },
        "id": "TS4n3R7YhLDo",
        "outputId": "0d89fdeb-9406-43e3-c12d-3db33c028078"
      },
      "execution_count": null,
      "outputs": [
        {
          "output_type": "stream",
          "name": "stdout",
          "text": [
            "----------------------------------------\n",
            "epoch: 0 loss_train: 0.5015099723168346 loss_val: 0.30880520275876494 acc: 0.8870648734177216\n",
            "better\n",
            "----------------------------------------\n",
            "epoch: 1 loss_train: 0.27713957905312026 loss_val: 0.2664127981738199 acc: 0.9021954113924051\n",
            "better\n",
            "----------------------------------------\n",
            "epoch: 2 loss_train: 0.21959055516192372 loss_val: 0.24648800030162063 acc: 0.9088212025316456\n",
            "better\n",
            "----------------------------------------\n",
            "epoch: 3 loss_train: 0.18093725056637583 loss_val: 0.23001488477368898 acc: 0.9168314873417721\n",
            "better\n",
            "----------------------------------------\n",
            "epoch: 4 loss_train: 0.14703344401267485 loss_val: 0.2182710147168063 acc: 0.9217761075949367\n",
            "better\n",
            "----------------------------------------\n",
            "epoch: 5 loss_train: 0.11672743453699 loss_val: 0.22787654795978643 acc: 0.9193037974683544\n",
            "----------------------------------------\n",
            "epoch: 6 loss_train: 0.09007337662246069 loss_val: 0.22942616488737397 acc: 0.9221716772151899\n",
            "better\n",
            "----------------------------------------\n",
            "epoch: 7 loss_train: 0.0691277635476702 loss_val: 0.2335706082043014 acc: 0.9262262658227848\n",
            "better\n"
          ]
        },
        {
          "output_type": "stream",
          "name": "stderr",
          "text": [
            "<ipython-input-11-814a6702a7c2>:49: FutureWarning: You are using `torch.load` with `weights_only=False` (the current default value), which uses the default pickle module implicitly. It is possible to construct malicious pickle data which will execute arbitrary code during unpickling (See https://github.com/pytorch/pytorch/blob/main/SECURITY.md#untrusted-models for more details). In a future release, the default value for `weights_only` will be flipped to `True`. This limits the functions that could be executed during unpickling. Arbitrary objects will no longer be allowed to be loaded via this mode unless they are explicitly allowlisted by the user via `torch.serialization.add_safe_globals`. We recommend you start setting `weights_only=True` for any use case where you don't have full control of the loaded file. Please open an issue on GitHub for any issues related to this experimental feature.\n",
            "  model.load_state_dict(torch.load(best_model_params_path))\n"
          ]
        }
      ]
    },
    {
      "cell_type": "markdown",
      "source": [
        "# treinando por mais epocas"
      ],
      "metadata": {
        "id": "ElH8GqAKmVp4"
      }
    },
    {
      "cell_type": "code",
      "source": [
        "Model2_2 = model2().to(device)\n",
        "num_epoch = 20\n",
        "lr = 0.001\n",
        "opt_func = torch.optim.Adam(Model2_2.parameters(), lr = lr)\n",
        "lossfunc = nn.CrossEntropyLoss()\n",
        "\n",
        "\n",
        "history2_2 = fit(num_epoch, Model2_2, train_dl, val_dl, lossfunc, opt_func, False)\n",
        "#aprovado"
      ],
      "metadata": {
        "colab": {
          "base_uri": "https://localhost:8080/"
        },
        "id": "fL-46XNwmTfA",
        "outputId": "fd06d253-e231-4c2e-dcda-bfba1a2a2bcb"
      },
      "execution_count": null,
      "outputs": [
        {
          "output_type": "stream",
          "name": "stdout",
          "text": [
            "----------------------------------------\n",
            "epoch: 0 loss_train: 0.05746369967665857 loss_val: 0.2619622795830799 acc: 0.9311708860759493\n",
            "better\n",
            "----------------------------------------\n",
            "epoch: 1 loss_train: 0.04341636533560732 loss_val: 0.25119559188620955 acc: 0.9322587025316456\n",
            "better\n",
            "----------------------------------------\n",
            "epoch: 2 loss_train: 0.03574885466062199 loss_val: 0.26885008330963833 acc: 0.9306764240506329\n",
            "----------------------------------------\n",
            "epoch: 3 loss_train: 0.030157701174259338 loss_val: 0.27147099088075793 acc: 0.9347310126582279\n",
            "better\n",
            "----------------------------------------\n",
            "epoch: 4 loss_train: 0.02691608557300142 loss_val: 0.31383110257455066 acc: 0.9315664556962026\n",
            "----------------------------------------\n",
            "epoch: 5 loss_train: 0.024499731475089576 loss_val: 0.3108835081699528 acc: 0.930379746835443\n",
            "----------------------------------------\n",
            "epoch: 6 loss_train: 0.022259046811589023 loss_val: 0.31631740541020525 acc: 0.9314675632911392\n",
            "----------------------------------------\n",
            "epoch: 7 loss_train: 0.018522246729518833 loss_val: 0.30498090961688684 acc: 0.9335443037974683\n",
            "----------------------------------------\n",
            "epoch: 8 loss_train: 0.01589478586037891 loss_val: 0.35593082779381846 acc: 0.9272151898734177\n",
            "----------------------------------------\n",
            "epoch: 9 loss_train: 0.020620357840830494 loss_val: 0.3103341407266363 acc: 0.9341376582278481\n",
            "----------------------------------------\n",
            "epoch: 10 loss_train: 0.016030938488870734 loss_val: 0.3321267498680685 acc: 0.9329509493670886\n",
            "----------------------------------------\n",
            "epoch: 11 loss_train: 0.01730497107241729 loss_val: 0.3357737275088041 acc: 0.9326542721518988\n",
            "----------------------------------------\n",
            "epoch: 12 loss_train: 0.01568171044200798 loss_val: 0.37927365542354086 acc: 0.9286985759493671\n",
            "----------------------------------------\n",
            "epoch: 13 loss_train: 0.012384767065566364 loss_val: 0.32976511455600777 acc: 0.934434335443038\n",
            "----------------------------------------\n",
            "epoch: 14 loss_train: 0.012190409915727477 loss_val: 0.3463662288894382 acc: 0.9287974683544303\n",
            "----------------------------------------\n",
            "epoch: 15 loss_train: 0.012892344004131884 loss_val: 0.3602547187924008 acc: 0.9299841772151899\n",
            "----------------------------------------\n",
            "epoch: 16 loss_train: 0.015287657630245161 loss_val: 0.35687900919325743 acc: 0.9302808544303798\n",
            "----------------------------------------\n",
            "epoch: 17 loss_train: 0.012920084263021965 loss_val: 0.34649637209463724 acc: 0.9354232594936709\n",
            "better\n",
            "----------------------------------------\n",
            "epoch: 18 loss_train: 0.009722882521461132 loss_val: 0.38924298991885364 acc: 0.9264240506329114\n",
            "----------------------------------------\n",
            "epoch: 19 loss_train: 0.011569196482423766 loss_val: 0.3642513339372375 acc: 0.9363132911392406\n",
            "better\n"
          ]
        },
        {
          "output_type": "stream",
          "name": "stderr",
          "text": [
            "<ipython-input-11-814a6702a7c2>:49: FutureWarning: You are using `torch.load` with `weights_only=False` (the current default value), which uses the default pickle module implicitly. It is possible to construct malicious pickle data which will execute arbitrary code during unpickling (See https://github.com/pytorch/pytorch/blob/main/SECURITY.md#untrusted-models for more details). In a future release, the default value for `weights_only` will be flipped to `True`. This limits the functions that could be executed during unpickling. Arbitrary objects will no longer be allowed to be loaded via this mode unless they are explicitly allowlisted by the user via `torch.serialization.add_safe_globals`. We recommend you start setting `weights_only=True` for any use case where you don't have full control of the loaded file. Please open an issue on GitHub for any issues related to this experimental feature.\n",
            "  model.load_state_dict(torch.load(best_model_params_path))\n"
          ]
        }
      ]
    },
    {
      "cell_type": "code",
      "source": [
        "Model4_2_V2 = model4().to(device)\n",
        "num_epoch = 20\n",
        "lr = 0.001\n",
        "opt_func = torch.optim.Adam(Model4_2.parameters(), lr = lr, weight_decay = 0.00001)\n",
        "lossfunc = nn.CrossEntropyLoss()\n",
        "\n",
        "\n",
        "history4_2 = fit(num_epoch, Model4_2, train_dl, val_dl, lossfunc, opt_func, False)"
      ],
      "metadata": {
        "colab": {
          "base_uri": "https://localhost:8080/"
        },
        "id": "gKx9vM8DnFRn",
        "outputId": "272fe340-82e0-4f2c-e14d-b78591aff303"
      },
      "execution_count": null,
      "outputs": [
        {
          "output_type": "stream",
          "name": "stdout",
          "text": [
            "----------------------------------------\n",
            "epoch: 0 loss_train: 0.10098662171655756 loss_val: 0.24261677604687365 acc: 0.9295886075949367\n",
            "better\n",
            "----------------------------------------\n",
            "epoch: 1 loss_train: 0.07549241828539259 loss_val: 0.2621035468351992 acc: 0.9315664556962026\n",
            "better\n",
            "----------------------------------------\n",
            "epoch: 2 loss_train: 0.0665647956254461 loss_val: 0.2639633231336557 acc: 0.9286985759493671\n",
            "----------------------------------------\n",
            "epoch: 3 loss_train: 0.05542986024328319 loss_val: 0.2813562206641028 acc: 0.9291930379746836\n",
            "----------------------------------------\n",
            "epoch: 4 loss_train: 0.05345278788034035 loss_val: 0.28509134252237367 acc: 0.9314675632911392\n",
            "----------------------------------------\n",
            "epoch: 5 loss_train: 0.046324430359884754 loss_val: 0.3387612290208853 acc: 0.9285996835443038\n",
            "----------------------------------------\n",
            "epoch: 6 loss_train: 0.046993752555621555 loss_val: 0.32168854650440093 acc: 0.9308742088607594\n",
            "----------------------------------------\n",
            "epoch: 7 loss_train: 0.03905157610247641 loss_val: 0.3268929498765287 acc: 0.9318631329113924\n",
            "better\n",
            "----------------------------------------\n",
            "epoch: 8 loss_train: 0.03474127590525872 loss_val: 0.3496158990678908 acc: 0.9308742088607594\n",
            "----------------------------------------\n",
            "epoch: 9 loss_train: 0.03411484554709505 loss_val: 0.36015684996979147 acc: 0.9336431962025317\n",
            "better\n",
            "----------------------------------------\n",
            "epoch: 10 loss_train: 0.030831075712616847 loss_val: 0.3488837857789631 acc: 0.9324564873417721\n",
            "----------------------------------------\n",
            "epoch: 11 loss_train: 0.03108635476475958 loss_val: 0.3832845101250878 acc: 0.9295886075949367\n",
            "----------------------------------------\n",
            "epoch: 12 loss_train: 0.03385009761819916 loss_val: 0.39263544637191145 acc: 0.9285007911392406\n",
            "----------------------------------------\n",
            "epoch: 13 loss_train: 0.027365153954114856 loss_val: 0.41346655790753 acc: 0.9308742088607594\n",
            "----------------------------------------\n",
            "epoch: 14 loss_train: 0.022539877175541637 loss_val: 0.4133286029100418 acc: 0.9311708860759493\n",
            "----------------------------------------\n",
            "epoch: 15 loss_train: 0.02414281131754614 loss_val: 0.42028812601973736 acc: 0.9284018987341772\n",
            "----------------------------------------\n",
            "epoch: 16 loss_train: 0.026083687925781987 loss_val: 0.4181788449611845 acc: 0.9260284810126582\n",
            "----------------------------------------\n",
            "epoch: 17 loss_train: 0.023421862460238158 loss_val: 0.43641012841010396 acc: 0.9291930379746836\n",
            "----------------------------------------\n",
            "epoch: 18 loss_train: 0.02198978342555637 loss_val: 0.4267536388545097 acc: 0.9298852848101266\n",
            "----------------------------------------\n",
            "epoch: 19 loss_train: 0.020665387527475577 loss_val: 0.43572773053487646 acc: 0.9308742088607594\n"
          ]
        },
        {
          "output_type": "stream",
          "name": "stderr",
          "text": [
            "<ipython-input-11-814a6702a7c2>:49: FutureWarning: You are using `torch.load` with `weights_only=False` (the current default value), which uses the default pickle module implicitly. It is possible to construct malicious pickle data which will execute arbitrary code during unpickling (See https://github.com/pytorch/pytorch/blob/main/SECURITY.md#untrusted-models for more details). In a future release, the default value for `weights_only` will be flipped to `True`. This limits the functions that could be executed during unpickling. Arbitrary objects will no longer be allowed to be loaded via this mode unless they are explicitly allowlisted by the user via `torch.serialization.add_safe_globals`. We recommend you start setting `weights_only=True` for any use case where you don't have full control of the loaded file. Please open an issue on GitHub for any issues related to this experimental feature.\n",
            "  model.load_state_dict(torch.load(best_model_params_path))\n"
          ]
        }
      ]
    },
    {
      "cell_type": "code",
      "source": [
        "Model2_3 = model2().to(device)\n",
        "num_epoch = 20\n",
        "lr = 0.01\n",
        "opt_func = torch.optim.SGD(Model2_3.parameters(), lr = lr,  momentum=0.80)\n",
        "lossfunc = nn.CrossEntropyLoss()\n",
        "\n",
        "\n",
        "history2_3 = fit(num_epoch, Model2_3, train_dl, val_dl, lossfunc, opt_func, False)\n",
        "#aprovado"
      ],
      "metadata": {
        "colab": {
          "base_uri": "https://localhost:8080/"
        },
        "id": "B-UvyOk5oYd7",
        "outputId": "ff72be77-da57-4cba-b5ef-1121d47fdf04"
      },
      "execution_count": null,
      "outputs": [
        {
          "output_type": "stream",
          "name": "stdout",
          "text": [
            "----------------------------------------\n",
            "epoch: 0 loss_train: 0.3698394145349712 loss_val: 0.2715723718268962 acc: 0.9004153481012658\n",
            "better\n",
            "----------------------------------------\n",
            "epoch: 1 loss_train: 0.22426107607762832 loss_val: 0.21742743753556965 acc: 0.9173259493670886\n",
            "better\n",
            "----------------------------------------\n",
            "epoch: 2 loss_train: 0.17466064494893985 loss_val: 0.2234706597614892 acc: 0.9169303797468354\n",
            "----------------------------------------\n",
            "epoch: 3 loss_train: 0.14009162632133954 loss_val: 0.22794943038798585 acc: 0.9166337025316456\n",
            "----------------------------------------\n",
            "epoch: 4 loss_train: 0.11092429669083231 loss_val: 0.23162051346860354 acc: 0.9191060126582279\n",
            "better\n",
            "----------------------------------------\n",
            "epoch: 5 loss_train: 0.0837842719653226 loss_val: 0.22223794328261026 acc: 0.9263251582278481\n",
            "better\n",
            "----------------------------------------\n",
            "epoch: 6 loss_train: 0.06191264408762041 loss_val: 0.23865926350596584 acc: 0.923556170886076\n",
            "----------------------------------------\n",
            "epoch: 7 loss_train: 0.047778966415035144 loss_val: 0.24303840091334114 acc: 0.924248417721519\n",
            "----------------------------------------\n",
            "epoch: 8 loss_train: 0.03865324064631901 loss_val: 0.25563902605938005 acc: 0.9253362341772152\n",
            "----------------------------------------\n",
            "epoch: 9 loss_train: 0.02789574284392321 loss_val: 0.26085856820963604 acc: 0.9278085443037974\n",
            "better\n",
            "----------------------------------------\n",
            "epoch: 10 loss_train: 0.021454328723797274 loss_val: 0.27868684390677684 acc: 0.9267207278481012\n",
            "----------------------------------------\n",
            "epoch: 11 loss_train: 0.014271120352032202 loss_val: 0.2828397515076625 acc: 0.928995253164557\n",
            "better\n",
            "----------------------------------------\n",
            "epoch: 12 loss_train: 0.015135217973393152 loss_val: 0.2875781213935417 acc: 0.9306764240506329\n",
            "better\n",
            "----------------------------------------\n",
            "epoch: 13 loss_train: 0.008135037956094784 loss_val: 0.30015400910302054 acc: 0.9299841772151899\n",
            "----------------------------------------\n",
            "epoch: 14 loss_train: 0.0070163508760445106 loss_val: 0.2933105799027636 acc: 0.9272151898734177\n",
            "----------------------------------------\n",
            "epoch: 15 loss_train: 0.006584564743288423 loss_val: 0.3197859296976011 acc: 0.9296875\n",
            "----------------------------------------\n",
            "epoch: 16 loss_train: 0.0063995482781014695 loss_val: 0.3194996871148484 acc: 0.9282041139240507\n",
            "----------------------------------------\n",
            "epoch: 17 loss_train: 0.00422277372552837 loss_val: 0.30691256270378453 acc: 0.932753164556962\n",
            "better\n",
            "----------------------------------------\n",
            "epoch: 18 loss_train: 0.0035367140520686795 loss_val: 0.3146972706234908 acc: 0.9308742088607594\n",
            "----------------------------------------\n",
            "epoch: 19 loss_train: 0.0030639930488675702 loss_val: 0.31640951759830305 acc: 0.9314675632911392\n"
          ]
        },
        {
          "output_type": "stream",
          "name": "stderr",
          "text": [
            "<ipython-input-11-814a6702a7c2>:49: FutureWarning: You are using `torch.load` with `weights_only=False` (the current default value), which uses the default pickle module implicitly. It is possible to construct malicious pickle data which will execute arbitrary code during unpickling (See https://github.com/pytorch/pytorch/blob/main/SECURITY.md#untrusted-models for more details). In a future release, the default value for `weights_only` will be flipped to `True`. This limits the functions that could be executed during unpickling. Arbitrary objects will no longer be allowed to be loaded via this mode unless they are explicitly allowlisted by the user via `torch.serialization.add_safe_globals`. We recommend you start setting `weights_only=True` for any use case where you don't have full control of the loaded file. Please open an issue on GitHub for any issues related to this experimental feature.\n",
            "  model.load_state_dict(torch.load(best_model_params_path))\n"
          ]
        }
      ]
    },
    {
      "cell_type": "markdown",
      "source": [
        "# Modelo definitivo"
      ],
      "metadata": {
        "id": "JwqOY9xgo--6"
      }
    },
    {
      "cell_type": "code",
      "source": [
        "Model2_2_V2 = model2().to(device)\n",
        "num_epoch = 20\n",
        "lr = 0.001\n",
        "opt_func = torch.optim.Adam(Model2_2_V2.parameters(), lr = lr)\n",
        "lossfunc = nn.CrossEntropyLoss()\n",
        "\n",
        "\n",
        "history2_2 = fit(num_epoch, Model2_2_V2, train_dl, val_dl, lossfunc, opt_func, True)\n",
        "#aprovado"
      ],
      "metadata": {
        "colab": {
          "base_uri": "https://localhost:8080/"
        },
        "id": "1hHXfYyDo7uP",
        "outputId": "fb9def58-d62e-409b-980b-3c83257f5d37"
      },
      "execution_count": null,
      "outputs": [
        {
          "output_type": "stream",
          "name": "stdout",
          "text": [
            "----------------------------------------\n",
            "epoch: 0 loss_train: 0.3373521500460022 loss_val: 0.26214363020432147 acc: 0.9003164556962026\n",
            "better\n",
            "----------------------------------------\n",
            "epoch: 1 loss_train: 0.2191953107028666 loss_val: 0.22051455014491383 acc: 0.9153481012658228\n",
            "better\n",
            "----------------------------------------\n",
            "epoch: 2 loss_train: 0.1776518808568225 loss_val: 0.21068919978187053 acc: 0.9178204113924051\n",
            "better\n",
            "----------------------------------------\n",
            "epoch: 3 loss_train: 0.14413407978499332 loss_val: 0.22604752209367632 acc: 0.9206882911392406\n",
            "better\n",
            "----------------------------------------\n",
            "epoch: 4 loss_train: 0.11444612233744711 loss_val: 0.23025561105224152 acc: 0.9194026898734177\n",
            "----------------------------------------\n",
            "epoch: 5 loss_train: 0.09299153695478464 loss_val: 0.2261603175650669 acc: 0.9259295886075949\n",
            "better\n",
            "----------------------------------------\n",
            "epoch: 6 loss_train: 0.04071298797193276 loss_val: 0.21046506434301787 acc: 0.9345332278481012\n",
            "better\n",
            "----------------------------------------\n",
            "epoch: 7 loss_train: 0.02547299326695216 loss_val: 0.2192961073751691 acc: 0.932753164556962\n",
            "----------------------------------------\n",
            "epoch: 8 loss_train: 0.017476469506997893 loss_val: 0.236489621898796 acc: 0.9338409810126582\n",
            "----------------------------------------\n",
            "epoch: 9 loss_train: 0.011783081081385018 loss_val: 0.25225200626669053 acc: 0.9323575949367089\n",
            "----------------------------------------\n",
            "epoch: 10 loss_train: 0.008771941749691068 loss_val: 0.266516193464587 acc: 0.9328520569620253\n",
            "----------------------------------------\n",
            "epoch: 11 loss_train: 0.00586815148397275 loss_val: 0.280117127808589 acc: 0.9321598101265823\n",
            "----------------------------------------\n",
            "epoch: 12 loss_train: 0.0037866251922332827 loss_val: 0.27998014105648933 acc: 0.9318631329113924\n",
            "----------------------------------------\n",
            "epoch: 13 loss_train: 0.003563400652423939 loss_val: 0.2803262668791451 acc: 0.9330498417721519\n",
            "----------------------------------------\n",
            "epoch: 14 loss_train: 0.0029880003350854748 loss_val: 0.28338943313382847 acc: 0.9325553797468354\n",
            "----------------------------------------\n",
            "epoch: 15 loss_train: 0.003079479711208864 loss_val: 0.28309176881102066 acc: 0.9331487341772152\n",
            "----------------------------------------\n",
            "epoch: 16 loss_train: 0.002932918112492189 loss_val: 0.2877922532962093 acc: 0.932753164556962\n",
            "----------------------------------------\n",
            "epoch: 17 loss_train: 0.0026513085105245612 loss_val: 0.2887980710196344 acc: 0.9335443037974683\n",
            "----------------------------------------\n",
            "epoch: 18 loss_train: 0.0024547410341809787 loss_val: 0.2878960385635684 acc: 0.9339398734177216\n",
            "----------------------------------------\n",
            "epoch: 19 loss_train: 0.0024440252906023563 loss_val: 0.28826720885272267 acc: 0.9343354430379747\n"
          ]
        },
        {
          "output_type": "stream",
          "name": "stderr",
          "text": [
            "<ipython-input-11-814a6702a7c2>:49: FutureWarning: You are using `torch.load` with `weights_only=False` (the current default value), which uses the default pickle module implicitly. It is possible to construct malicious pickle data which will execute arbitrary code during unpickling (See https://github.com/pytorch/pytorch/blob/main/SECURITY.md#untrusted-models for more details). In a future release, the default value for `weights_only` will be flipped to `True`. This limits the functions that could be executed during unpickling. Arbitrary objects will no longer be allowed to be loaded via this mode unless they are explicitly allowlisted by the user via `torch.serialization.add_safe_globals`. We recommend you start setting `weights_only=True` for any use case where you don't have full control of the loaded file. Please open an issue on GitHub for any issues related to this experimental feature.\n",
            "  model.load_state_dict(torch.load(best_model_params_path))\n"
          ]
        }
      ]
    },
    {
      "cell_type": "code",
      "source": [
        "Model4_2_V2 = model4().to(device)\n",
        "num_epoch = 20\n",
        "lr = 0.001\n",
        "opt_func = torch.optim.Adam(Model4_2_V2.parameters(), lr = lr, weight_decay = 0.00001)\n",
        "lossfunc = nn.CrossEntropyLoss()\n",
        "\n",
        "\n",
        "history4_2 = fit(num_epoch, Model4_2_V2, train_dl, val_dl, lossfunc, opt_func, True)"
      ],
      "metadata": {
        "colab": {
          "base_uri": "https://localhost:8080/"
        },
        "id": "pMBzvYKfpPcm",
        "outputId": "be68bfb6-570e-4667-86ab-68888731c4c3"
      },
      "execution_count": null,
      "outputs": [
        {
          "output_type": "stream",
          "name": "stdout",
          "text": [
            "----------------------------------------\n",
            "epoch: 0 loss_train: 0.3920382212876054 loss_val: 0.2759830108549021 acc: 0.8998219936708861\n",
            "better\n",
            "----------------------------------------\n",
            "epoch: 1 loss_train: 0.2520638549381205 loss_val: 0.2337794984820523 acc: 0.9119857594936709\n",
            "better\n",
            "----------------------------------------\n",
            "epoch: 2 loss_train: 0.21470068656193936 loss_val: 0.21978740790222265 acc: 0.9197982594936709\n",
            "better\n",
            "----------------------------------------\n",
            "epoch: 3 loss_train: 0.17712481449479642 loss_val: 0.20562703143569488 acc: 0.9258306962025317\n",
            "better\n",
            "----------------------------------------\n",
            "epoch: 4 loss_train: 0.1513130714368942 loss_val: 0.20057308881343167 acc: 0.9295886075949367\n",
            "better\n",
            "----------------------------------------\n",
            "epoch: 5 loss_train: 0.1261041434791387 loss_val: 0.19582416343538067 acc: 0.9329509493670886\n",
            "better\n",
            "----------------------------------------\n",
            "epoch: 6 loss_train: 0.07035769463118995 loss_val: 0.18684017710104772 acc: 0.9392800632911392\n",
            "better\n",
            "----------------------------------------\n",
            "epoch: 7 loss_train: 0.04847464364384065 loss_val: 0.19446523624319065 acc: 0.939873417721519\n",
            "better\n",
            "----------------------------------------\n",
            "epoch: 8 loss_train: 0.03783903537256181 loss_val: 0.207298024875831 acc: 0.9408623417721519\n",
            "better\n",
            "----------------------------------------\n",
            "epoch: 9 loss_train: 0.028514353377396797 loss_val: 0.22686087755085546 acc: 0.939873417721519\n",
            "----------------------------------------\n",
            "epoch: 10 loss_train: 0.021276381781415256 loss_val: 0.236299501708414 acc: 0.939181170886076\n",
            "----------------------------------------\n",
            "epoch: 11 loss_train: 0.015962747171880853 loss_val: 0.2596202552129951 acc: 0.9388844936708861\n",
            "----------------------------------------\n",
            "epoch: 12 loss_train: 0.010763307788904728 loss_val: 0.2613700121829781 acc: 0.939181170886076\n",
            "----------------------------------------\n",
            "epoch: 13 loss_train: 0.010054670694662864 loss_val: 0.2625741950130161 acc: 0.9396756329113924\n",
            "----------------------------------------\n",
            "epoch: 14 loss_train: 0.009093120438701776 loss_val: 0.2672812622276288 acc: 0.9388844936708861\n",
            "----------------------------------------\n",
            "epoch: 15 loss_train: 0.008962751431476988 loss_val: 0.2707332633907282 acc: 0.9380933544303798\n",
            "----------------------------------------\n",
            "epoch: 16 loss_train: 0.00820372110087415 loss_val: 0.2741258655545078 acc: 0.9379944620253164\n",
            "----------------------------------------\n",
            "epoch: 17 loss_train: 0.007308667000738042 loss_val: 0.2774973399937153 acc: 0.9375\n",
            "----------------------------------------\n",
            "epoch: 18 loss_train: 0.007195202250103883 loss_val: 0.27698536396403856 acc: 0.9378955696202531\n",
            "----------------------------------------\n",
            "epoch: 19 loss_train: 0.007013177999746069 loss_val: 0.27758712208346475 acc: 0.9379944620253164\n"
          ]
        },
        {
          "output_type": "stream",
          "name": "stderr",
          "text": [
            "<ipython-input-11-814a6702a7c2>:49: FutureWarning: You are using `torch.load` with `weights_only=False` (the current default value), which uses the default pickle module implicitly. It is possible to construct malicious pickle data which will execute arbitrary code during unpickling (See https://github.com/pytorch/pytorch/blob/main/SECURITY.md#untrusted-models for more details). In a future release, the default value for `weights_only` will be flipped to `True`. This limits the functions that could be executed during unpickling. Arbitrary objects will no longer be allowed to be loaded via this mode unless they are explicitly allowlisted by the user via `torch.serialization.add_safe_globals`. We recommend you start setting `weights_only=True` for any use case where you don't have full control of the loaded file. Please open an issue on GitHub for any issues related to this experimental feature.\n",
            "  model.load_state_dict(torch.load(best_model_params_path))\n"
          ]
        }
      ]
    },
    {
      "cell_type": "code",
      "source": [
        "Model2_3_V2 = model2().to(device)\n",
        "num_epoch = 20\n",
        "lr = 0.01\n",
        "opt_func = torch.optim.SGD(Model2_3_V2.parameters(), lr = lr,  momentum=0.80)\n",
        "lossfunc = nn.CrossEntropyLoss()\n",
        "\n",
        "\n",
        "history2_3 = fit(num_epoch, Model2_3_V2, train_dl, val_dl, lossfunc, opt_func, False)\n",
        "#aprovado"
      ],
      "metadata": {
        "colab": {
          "base_uri": "https://localhost:8080/"
        },
        "id": "mSvYWtEgpS13",
        "outputId": "e634d080-351d-4717-c749-c04a2cc3bd6d"
      },
      "execution_count": null,
      "outputs": [
        {
          "output_type": "stream",
          "name": "stdout",
          "text": [
            "----------------------------------------\n",
            "epoch: 0 loss_train: 0.3820728177914534 loss_val: 0.2997528288183333 acc: 0.8897349683544303\n",
            "better\n",
            "----------------------------------------\n",
            "epoch: 1 loss_train: 0.22920998462173334 loss_val: 0.226251071766962 acc: 0.916435917721519\n",
            "better\n",
            "----------------------------------------\n",
            "epoch: 2 loss_train: 0.1750389016459665 loss_val: 0.201166187283359 acc: 0.9283030063291139\n",
            "better\n",
            "----------------------------------------\n",
            "epoch: 3 loss_train: 0.14023916865401256 loss_val: 0.22309992896227898 acc: 0.9206882911392406\n",
            "----------------------------------------\n",
            "epoch: 4 loss_train: 0.1094938345977565 loss_val: 0.21052489222227772 acc: 0.9279074367088608\n",
            "----------------------------------------\n",
            "epoch: 5 loss_train: 0.0818132812352589 loss_val: 0.23727602153262006 acc: 0.9237539556962026\n",
            "----------------------------------------\n",
            "epoch: 6 loss_train: 0.058978776578479414 loss_val: 0.24871003269394742 acc: 0.9217761075949367\n",
            "----------------------------------------\n",
            "epoch: 7 loss_train: 0.04505231733674474 loss_val: 0.24971709390984306 acc: 0.9265229430379747\n",
            "----------------------------------------\n",
            "epoch: 8 loss_train: 0.035008220972679076 loss_val: 0.2769076744023758 acc: 0.9239517405063291\n",
            "----------------------------------------\n",
            "epoch: 9 loss_train: 0.025948077483136024 loss_val: 0.28703853403088414 acc: 0.9276107594936709\n",
            "----------------------------------------\n",
            "epoch: 10 loss_train: 0.022008085238706808 loss_val: 0.2893899232149124 acc: 0.9252373417721519\n",
            "----------------------------------------\n",
            "epoch: 11 loss_train: 0.013235920493829224 loss_val: 0.29400041114680375 acc: 0.9267207278481012\n",
            "----------------------------------------\n",
            "epoch: 12 loss_train: 0.00955707143487223 loss_val: 0.30023423370115365 acc: 0.9263251582278481\n",
            "----------------------------------------\n",
            "epoch: 13 loss_train: 0.00723891429138034 loss_val: 0.300969112900239 acc: 0.9295886075949367\n",
            "better\n",
            "----------------------------------------\n",
            "epoch: 14 loss_train: 0.006736928653960471 loss_val: 0.3152136486730998 acc: 0.9291930379746836\n",
            "----------------------------------------\n",
            "epoch: 15 loss_train: 0.004345471190665003 loss_val: 0.3149832079682169 acc: 0.9310719936708861\n",
            "better\n",
            "----------------------------------------\n",
            "epoch: 16 loss_train: 0.0035520482610653884 loss_val: 0.3084249885021886 acc: 0.9298852848101266\n",
            "----------------------------------------\n",
            "epoch: 17 loss_train: 0.003142709922342611 loss_val: 0.31686786515048787 acc: 0.9318631329113924\n",
            "better\n",
            "----------------------------------------\n",
            "epoch: 18 loss_train: 0.0027752809022265055 loss_val: 0.3289376528391355 acc: 0.9286985759493671\n",
            "----------------------------------------\n",
            "epoch: 19 loss_train: 0.002836371682186211 loss_val: 0.322351161060454 acc: 0.9330498417721519\n",
            "better\n"
          ]
        },
        {
          "output_type": "stream",
          "name": "stderr",
          "text": [
            "<ipython-input-11-814a6702a7c2>:49: FutureWarning: You are using `torch.load` with `weights_only=False` (the current default value), which uses the default pickle module implicitly. It is possible to construct malicious pickle data which will execute arbitrary code during unpickling (See https://github.com/pytorch/pytorch/blob/main/SECURITY.md#untrusted-models for more details). In a future release, the default value for `weights_only` will be flipped to `True`. This limits the functions that could be executed during unpickling. Arbitrary objects will no longer be allowed to be loaded via this mode unless they are explicitly allowlisted by the user via `torch.serialization.add_safe_globals`. We recommend you start setting `weights_only=True` for any use case where you don't have full control of the loaded file. Please open an issue on GitHub for any issues related to this experimental feature.\n",
            "  model.load_state_dict(torch.load(best_model_params_path))\n"
          ]
        }
      ]
    },
    {
      "cell_type": "markdown",
      "source": [
        "# análise"
      ],
      "metadata": {
        "id": "8d5tYRV_zOwK"
      }
    },
    {
      "cell_type": "code",
      "source": [
        "historical = [history2_3, history4_2, history2_2]\n",
        "\n",
        "plot_all_loss(historical)"
      ],
      "metadata": {
        "colab": {
          "base_uri": "https://localhost:8080/",
          "height": 927
        },
        "id": "yzP4_QOxvgpM",
        "outputId": "1d6adbc8-d9dd-4374-cf26-816a67734ce7"
      },
      "execution_count": null,
      "outputs": [
        {
          "output_type": "display_data",
          "data": {
            "text/plain": [
              "<Figure size 640x480 with 1 Axes>"
            ],
            "image/png": "[encoded data removed]"
          },
          "metadata": {}
        },
        {
          "output_type": "display_data",
          "data": {
            "text/plain": [
              "<Figure size 640x480 with 1 Axes>"
            ],
            "image/png": "[encoded data removed]"
          },
          "metadata": {}
        }
      ]
    },
    {
      "cell_type": "code",
      "source": [
        "plot_all_acc(historical)"
      ],
      "metadata": {
        "colab": {
          "base_uri": "https://localhost:8080/",
          "height": 472
        },
        "id": "vDxxusQAv0Jp",
        "outputId": "ae6385de-d758-4bfd-f4c1-daa6313bc52d"
      },
      "execution_count": null,
      "outputs": [
        {
          "output_type": "display_data",
          "data": {
            "text/plain": [
              "<Figure size 640x480 with 1 Axes>"
            ],
            "image/png": "[encoded data removed]"
          },
          "metadata": {}
        }
      ]
    },
    {
      "cell_type": "code",
      "source": [
        "#matrix de confusão\n",
        "make_confusion_matrix(Model4_2_V2, val_dl)"
      ],
      "metadata": {
        "colab": {
          "base_uri": "https://localhost:8080/",
          "height": 472
        },
        "id": "KV4jIs93v1-l",
        "outputId": "721dd181-1b7a-43b1-a093-013989a9e26a"
      },
      "execution_count": null,
      "outputs": [
        {
          "output_type": "display_data",
          "data": {
            "text/plain": [
              "<Figure size 640x480 with 2 Axes>"
            ],
            "image/png": "[encoded data removed]"
          },
          "metadata": {}
        }
      ]
    },
    {
      "cell_type": "markdown",
      "source": [
        "0 T-shirt/top\n",
        "\n",
        "1 Trouser\n",
        "\n",
        "2 Pullover\n",
        "\n",
        "3 Dress\n",
        "\n",
        "4 Coat\n",
        "\n",
        "5 Sandal\n",
        "\n",
        "6 Shirt\n",
        "\n",
        "7 Sneaker\n",
        "\n",
        "8 Bag\n",
        "\n",
        "9 Ankle boot"
      ],
      "metadata": {
        "id": "VuX5JJ-3yJNv"
      }
    },
    {
      "cell_type": "code",
      "source": [
        "classes = [0,1,2,3,4,5,6,7,8,9]\n",
        "\n",
        "acurracy(Model4_2_V2, test_dl, classes)"
      ],
      "metadata": {
        "colab": {
          "base_uri": "https://localhost:8080/"
        },
        "id": "C1mX_kjmws1-",
        "outputId": "fc03aa36-dda1-40fe-807b-07ef5c3af2a8"
      },
      "execution_count": null,
      "outputs": [
        {
          "output_type": "stream",
          "name": "stdout",
          "text": [
            "acurracia da classe 0 : 0.893\n",
            "acurracia da classe 1 : 0.988\n",
            "acurracia da classe 2 : 0.908\n",
            "acurracia da classe 3 : 0.94\n",
            "acurracia da classe 4 : 0.916\n",
            "acurracia da classe 5 : 0.983\n",
            "acurracia da classe 6 : 0.787\n",
            "acurracia da classe 7 : 0.974\n",
            "acurracia da classe 8 : 0.988\n",
            "acurracia da classe 9 : 0.974\n",
            "acurracia global: 0.9351\n"
          ]
        },
        {
          "output_type": "execute_result",
          "data": {
            "text/plain": [
              "0.9351"
            ]
          },
          "metadata": {},
          "execution_count": 62
        }
      ]
    },
    {
      "cell_type": "markdown",
      "source": [
        "# comitê de modelos"
      ],
      "metadata": {
        "id": "em2HmzlhzLfC"
      }
    },
    {
      "cell_type": "code",
      "source": [
        "models = [Model4_2_V2, Model2_3_V2,Model2_2_V2]\n",
        "\n",
        "from statistics import multimode\n",
        "\n",
        "def assembing(models, val_data, classes):\n",
        "  #construindo vetor de predições\n",
        "  predictions = []\n",
        "  cont = 0\n",
        "  Label = torch.tensor([])\n",
        "  for model in models:\n",
        "\n",
        "    Pred_model = torch.tensor([])\n",
        "    model.eval()\n",
        "    with torch.no_grad():\n",
        "      for imgs, labels in val_data:\n",
        "        if cont == 0:\n",
        "          Label = torch.cat((Label, labels))\n",
        "\n",
        "        imgs, labels = imgs.to(device), labels.to(device)\n",
        "\n",
        "        out = model(imgs)\n",
        "        _, preds = torch.max(out, dim = 1)\n",
        "\n",
        "        Pred_model = torch.cat((Pred_model, preds.to('cpu')))\n",
        "    cont+=1\n",
        "\n",
        "    predictions.append(np.array(Pred_model))\n",
        "  predictions = np.transpose(predictions)\n",
        "  resposta = []\n",
        "\n",
        "  for i in predictions:\n",
        "     moda = multimode(i)\n",
        "     #Em casos de empates, sempre pegar o primeiro valor da lista\n",
        "     resposta.append(moda[0])\n",
        "\n",
        "\n",
        "  correct_preds = {name_class: 0 for name_class in classes}\n",
        "  all_preds = {name_class: 0 for name_class in classes}\n",
        "  total_correct = 0.0\n",
        "  total = 0.0\n",
        "\n",
        "  for pred, label in zip(resposta,Label):\n",
        "\n",
        "    if pred == label:\n",
        "      correct_preds[classes[int(label)]] += 1\n",
        "      total_correct += 1\n",
        "    all_preds[classes[int(label)]] += 1\n",
        "    total += 1\n",
        "\n",
        "  for name in classes:\n",
        "    class_acc = correct_preds[name] / all_preds[name]\n",
        "    print(\"acurracia da classe\", str(name),\":\", class_acc)\n",
        "\n",
        "  global_acc = total_correct/total\n",
        "  print('acurracia global:', global_acc)"
      ],
      "metadata": {
        "id": "UEqvx_RKyi1Y"
      },
      "execution_count": null,
      "outputs": []
    },
    {
      "cell_type": "code",
      "source": [
        "classes = [0,1,2,3,4,5,6,7,8,9]\n",
        "acurracy(Model4_2_V2, test_dl, classes)\n",
        "assembing(models, test_dl,classes)"
      ],
      "metadata": {
        "colab": {
          "base_uri": "https://localhost:8080/"
        },
        "id": "js8WqpWmykbu",
        "outputId": "cba9f931-8f4e-4927-d989-51d74abb2932"
      },
      "execution_count": null,
      "outputs": [
        {
          "output_type": "stream",
          "name": "stdout",
          "text": [
            "acurracia da classe 0 : 0.893\n",
            "acurracia da classe 1 : 0.988\n",
            "acurracia da classe 2 : 0.908\n",
            "acurracia da classe 3 : 0.94\n",
            "acurracia da classe 4 : 0.916\n",
            "acurracia da classe 5 : 0.983\n",
            "acurracia da classe 6 : 0.787\n",
            "acurracia da classe 7 : 0.974\n",
            "acurracia da classe 8 : 0.988\n",
            "acurracia da classe 9 : 0.974\n",
            "acurracia global: 0.9351\n",
            "acurracia da classe 0 : 0.893\n",
            "acurracia da classe 1 : 0.988\n",
            "acurracia da classe 2 : 0.914\n",
            "acurracia da classe 3 : 0.953\n",
            "acurracia da classe 4 : 0.922\n",
            "acurracia da classe 5 : 0.986\n",
            "acurracia da classe 6 : 0.802\n",
            "acurracia da classe 7 : 0.986\n",
            "acurracia da classe 8 : 0.989\n",
            "acurracia da classe 9 : 0.974\n",
            "acurracia global: 0.9407\n"
          ]
        }
      ]
    },
    {
      "cell_type": "code",
      "source": [
        "pip install torchmetrics"
      ],
      "metadata": {
        "colab": {
          "base_uri": "https://localhost:8080/"
        },
        "id": "r4fuSWpXnx3Z",
        "outputId": "b19bd45f-b7b0-42f2-8c08-57c5f7abe9dd"
      },
      "execution_count": null,
      "outputs": [
        {
          "output_type": "stream",
          "name": "stdout",
          "text": [
            "Collecting torchmetrics\n",
            "  Downloading torchmetrics-1.6.1-py3-none-any.whl.metadata (21 kB)\n",
            "Requirement already satisfied: numpy>1.20.0 in /usr/local/lib/python3.11/dist-packages (from torchmetrics) (1.26.4)\n",
            "Requirement already satisfied: packaging>17.1 in /usr/local/lib/python3.11/dist-packages (from torchmetrics) (24.2)\n",
            "Requirement already satisfied: torch>=2.0.0 in /usr/local/lib/python3.11/dist-packages (from torchmetrics) (2.5.1+cu121)\n",
            "Collecting lightning-utilities>=0.8.0 (from torchmetrics)\n",
            "  Downloading lightning_utilities-0.11.9-py3-none-any.whl.metadata (5.2 kB)\n",
            "Requirement already satisfied: setuptools in /usr/local/lib/python3.11/dist-packages (from lightning-utilities>=0.8.0->torchmetrics) (75.1.0)\n",
            "Requirement already satisfied: typing-extensions in /usr/local/lib/python3.11/dist-packages (from lightning-utilities>=0.8.0->torchmetrics) (4.12.2)\n",
            "Requirement already satisfied: filelock in /usr/local/lib/python3.11/dist-packages (from torch>=2.0.0->torchmetrics) (3.16.1)\n",
            "Requirement already satisfied: networkx in /usr/local/lib/python3.11/dist-packages (from torch>=2.0.0->torchmetrics) (3.4.2)\n",
            "Requirement already satisfied: jinja2 in /usr/local/lib/python3.11/dist-packages (from torch>=2.0.0->torchmetrics) (3.1.5)\n",
            "Requirement already satisfied: fsspec in /usr/local/lib/python3.11/dist-packages (from torch>=2.0.0->torchmetrics) (2024.10.0)\n",
            "Requirement already satisfied: nvidia-cuda-nvrtc-cu12==12.1.105 in /usr/local/lib/python3.11/dist-packages (from torch>=2.0.0->torchmetrics) (12.1.105)\n",
            "Requirement already satisfied: nvidia-cuda-runtime-cu12==12.1.105 in /usr/local/lib/python3.11/dist-packages (from torch>=2.0.0->torchmetrics) (12.1.105)\n",
            "Requirement already satisfied: nvidia-cuda-cupti-cu12==12.1.105 in /usr/local/lib/python3.11/dist-packages (from torch>=2.0.0->torchmetrics) (12.1.105)\n",
            "Requirement already satisfied: nvidia-cudnn-cu12==9.1.0.70 in /usr/local/lib/python3.11/dist-packages (from torch>=2.0.0->torchmetrics) (9.1.0.70)\n",
            "Requirement already satisfied: nvidia-cublas-cu12==12.1.3.1 in /usr/local/lib/python3.11/dist-packages (from torch>=2.0.0->torchmetrics) (12.1.3.1)\n",
            "Requirement already satisfied: nvidia-cufft-cu12==11.0.2.54 in /usr/local/lib/python3.11/dist-packages (from torch>=2.0.0->torchmetrics) (11.0.2.54)\n",
            "Requirement already satisfied: nvidia-curand-cu12==10.3.2.106 in /usr/local/lib/python3.11/dist-packages (from torch>=2.0.0->torchmetrics) (10.3.2.106)\n",
            "Requirement already satisfied: nvidia-cusolver-cu12==11.4.5.107 in /usr/local/lib/python3.11/dist-packages (from torch>=2.0.0->torchmetrics) (11.4.5.107)\n",
            "Requirement already satisfied: nvidia-cusparse-cu12==12.1.0.106 in /usr/local/lib/python3.11/dist-packages (from torch>=2.0.0->torchmetrics) (12.1.0.106)\n",
            "Requirement already satisfied: nvidia-nccl-cu12==2.21.5 in /usr/local/lib/python3.11/dist-packages (from torch>=2.0.0->torchmetrics) (2.21.5)\n",
            "Requirement already satisfied: nvidia-nvtx-cu12==12.1.105 in /usr/local/lib/python3.11/dist-packages (from torch>=2.0.0->torchmetrics) (12.1.105)\n",
            "Requirement already satisfied: triton==3.1.0 in /usr/local/lib/python3.11/dist-packages (from torch>=2.0.0->torchmetrics) (3.1.0)\n",
            "Requirement already satisfied: sympy==1.13.1 in /usr/local/lib/python3.11/dist-packages (from torch>=2.0.0->torchmetrics) (1.13.1)\n",
            "Requirement already satisfied: nvidia-nvjitlink-cu12 in /usr/local/lib/python3.11/dist-packages (from nvidia-cusolver-cu12==11.4.5.107->torch>=2.0.0->torchmetrics) (12.6.85)\n",
            "Requirement already satisfied: mpmath<1.4,>=1.1.0 in /usr/local/lib/python3.11/dist-packages (from sympy==1.13.1->torch>=2.0.0->torchmetrics) (1.3.0)\n",
            "Requirement already satisfied: MarkupSafe>=2.0 in /usr/local/lib/python3.11/dist-packages (from jinja2->torch>=2.0.0->torchmetrics) (3.0.2)\n",
            "Downloading torchmetrics-1.6.1-py3-none-any.whl (927 kB)\n",
            "\u001b[2K   \u001b[90m━━━━━━━━━━━━━━━━━━━━━━━━━━━━━━━━━━━━━━━━\u001b[0m \u001b[32m927.3/927.3 kB\u001b[0m \u001b[31m9.9 MB/s\u001b[0m eta \u001b[36m0:00:00\u001b[0m\n",
            "\u001b[?25hDownloading lightning_utilities-0.11.9-py3-none-any.whl (28 kB)\n",
            "Installing collected packages: lightning-utilities, torchmetrics\n",
            "Successfully installed lightning-utilities-0.11.9 torchmetrics-1.6.1\n"
          ]
        }
      ]
    },
    {
      "cell_type": "markdown",
      "source": [
        "# f1 Score"
      ],
      "metadata": {
        "id": "pWtdxFBczJBL"
      }
    },
    {
      "cell_type": "code",
      "source": [
        "from sklearn.metrics import f1_score\n",
        "\n",
        "def f1_score(model, val_dl, classes):\n",
        "  model.eval()\n",
        "  f1 = 0.0\n",
        "  count = 0\n",
        "  with torch.no_grad():\n",
        "    total_correct = 0.0\n",
        "    total = 0.0\n",
        "    for imgs, labels in val_dl:\n",
        "      imgs, labels = imgs.to(device), labels.to(device)\n",
        "\n",
        "      out = model(imgs)\n",
        "\n",
        "      _, preds = torch.max(out, dim = 1)\n",
        "\n",
        "      f1 += f1_score(labels, preds, average='binary')\n",
        "      count += 1\n",
        "\n",
        "    f1 = f1/count\n",
        "\n",
        "    print('f1 global:', f1)\n",
        "  return f1\n",
        "\n"
      ],
      "metadata": {
        "colab": {
          "base_uri": "https://localhost:8080/",
          "height": 211
        },
        "id": "Cl7JCClYm-KC",
        "outputId": "f6b9888e-7bc9-48fe-84c6-01df0154beb2"
      },
      "execution_count": null,
      "outputs": [
        {
          "output_type": "error",
          "ename": "TypeError",
          "evalue": "F1Score.__new__() missing 1 required positional argument: 'task'",
          "traceback": [
            "\u001b[0;31m---------------------------------------------------------------------------\u001b[0m",
            "\u001b[0;31mTypeError\u001b[0m                                 Traceback (most recent call last)",
            "\u001b[0;32m<ipython-input-4-001d14607251>\u001b[0m in \u001b[0;36m<cell line: 0>\u001b[0;34m()\u001b[0m\n\u001b[1;32m      2\u001b[0m \u001b[0;34m\u001b[0m\u001b[0m\n\u001b[1;32m      3\u001b[0m \u001b[0;31m# Exemplo\u001b[0m\u001b[0;34m\u001b[0m\u001b[0;34m\u001b[0m\u001b[0m\n\u001b[0;32m----> 4\u001b[0;31m \u001b[0mf1\u001b[0m \u001b[0;34m=\u001b[0m \u001b[0mF1Score\u001b[0m\u001b[0;34m(\u001b[0m\u001b[0mnum_classes\u001b[0m\u001b[0;34m=\u001b[0m\u001b[0;36m2\u001b[0m\u001b[0;34m,\u001b[0m \u001b[0maverage\u001b[0m\u001b[0;34m=\u001b[0m\u001b[0;34m'binary'\u001b[0m\u001b[0;34m)\u001b[0m\u001b[0;34m\u001b[0m\u001b[0;34m\u001b[0m\u001b[0m\n\u001b[0m\u001b[1;32m      5\u001b[0m \u001b[0my_true\u001b[0m \u001b[0;34m=\u001b[0m \u001b[0mtorch\u001b[0m\u001b[0;34m.\u001b[0m\u001b[0mtensor\u001b[0m\u001b[0;34m(\u001b[0m\u001b[0;34m[\u001b[0m\u001b[0;36m1\u001b[0m\u001b[0;34m,\u001b[0m \u001b[0;36m0\u001b[0m\u001b[0;34m,\u001b[0m \u001b[0;36m1\u001b[0m\u001b[0;34m,\u001b[0m \u001b[0;36m1\u001b[0m\u001b[0;34m,\u001b[0m \u001b[0;36m0\u001b[0m\u001b[0;34m]\u001b[0m\u001b[0;34m)\u001b[0m\u001b[0;34m\u001b[0m\u001b[0;34m\u001b[0m\u001b[0m\n\u001b[1;32m      6\u001b[0m \u001b[0my_pred\u001b[0m \u001b[0;34m=\u001b[0m \u001b[0mtorch\u001b[0m\u001b[0;34m.\u001b[0m\u001b[0mtensor\u001b[0m\u001b[0;34m(\u001b[0m\u001b[0;34m[\u001b[0m\u001b[0;36m1\u001b[0m\u001b[0;34m,\u001b[0m \u001b[0;36m0\u001b[0m\u001b[0;34m,\u001b[0m \u001b[0;36m1\u001b[0m\u001b[0;34m,\u001b[0m \u001b[0;36m0\u001b[0m\u001b[0;34m,\u001b[0m \u001b[0;36m1\u001b[0m\u001b[0;34m]\u001b[0m\u001b[0;34m)\u001b[0m\u001b[0;34m\u001b[0m\u001b[0;34m\u001b[0m\u001b[0m\n",
            "\u001b[0;31mTypeError\u001b[0m: F1Score.__new__() missing 1 required positional argument: 'task'"
          ]
        }
      ]
    }
  ]
}